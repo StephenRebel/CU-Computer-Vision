{
 "cells": [
  {
   "cell_type": "code",
   "execution_count": 1,
   "metadata": {},
   "outputs": [],
   "source": [
    "from datasets import load_dataset\n",
    "from huggingface_hub import login\n",
    "from torchvision.transforms import RandomResizedCrop, Compose, Normalize, ToTensor\n",
    "from transformers import (\n",
    "    AutoImageProcessor,\n",
    "    AutoModelForImageClassification,\n",
    "    DefaultDataCollator,\n",
    "    TrainingArguments,\n",
    "    Trainer,\n",
    ")\n",
    "import evaluate\n",
    "import numpy as np\n",
    "\n",
    "import os"
   ]
  },
  {
   "cell_type": "code",
   "execution_count": 3,
   "metadata": {},
   "outputs": [],
   "source": [
    "login(os.getenv(\"HF_READ\"))"
   ]
  },
  {
   "cell_type": "code",
   "execution_count": 4,
   "metadata": {},
   "outputs": [],
   "source": [
    "dataset = load_dataset(\"ethz/food101\")"
   ]
  },
  {
   "cell_type": "code",
   "execution_count": 5,
   "metadata": {},
   "outputs": [
    {
     "data": {
      "text/plain": [
       "DatasetDict({\n",
       "    train: Dataset({\n",
       "        features: ['image', 'label'],\n",
       "        num_rows: 75750\n",
       "    })\n",
       "    validation: Dataset({\n",
       "        features: ['image', 'label'],\n",
       "        num_rows: 25250\n",
       "    })\n",
       "})"
      ]
     },
     "execution_count": 5,
     "metadata": {},
     "output_type": "execute_result"
    }
   ],
   "source": [
    "dataset"
   ]
  },
  {
   "cell_type": "code",
   "execution_count": 6,
   "metadata": {},
   "outputs": [],
   "source": [
    "labels = dataset['train'].features['label'].names\n",
    "label2id, id2label = dict(), dict()\n",
    "for i, label in enumerate(labels):\n",
    "    label2id[label] = str(i)\n",
    "    id2label[str(i)] = label"
   ]
  },
  {
   "cell_type": "code",
   "execution_count": 7,
   "metadata": {},
   "outputs": [
    {
     "name": "stderr",
     "output_type": "stream",
     "text": [
      "Fast image processor class <class 'transformers.models.vit.image_processing_vit_fast.ViTImageProcessorFast'> is available for this model. Using slow image processor class. To use the fast image processor class set `use_fast=True`.\n"
     ]
    }
   ],
   "source": [
    "checkpoint = \"google/vit-base-patch16-224-in21k\"\n",
    "image_processor = AutoImageProcessor.from_pretrained(checkpoint)"
   ]
  },
  {
   "cell_type": "code",
   "execution_count": 8,
   "metadata": {},
   "outputs": [],
   "source": [
    "normalize = Normalize(mean=image_processor.image_mean, std=image_processor.image_std)\n",
    "size = (\n",
    "    image_processor.size[\"shortest_edge\"]\n",
    "    if \"shortest_edge\" in image_processor.size\n",
    "    else (image_processor.size[\"height\"], image_processor.size[\"width\"])\n",
    ")\n",
    "_transfroms = Compose([RandomResizedCrop(size), ToTensor(), normalize])"
   ]
  },
  {
   "cell_type": "code",
   "execution_count": 9,
   "metadata": {},
   "outputs": [],
   "source": [
    "def transforms(examples):\n",
    "    examples[\"pixel_values\"] = [_transfroms(img.convert(\"RGB\")) for img in examples[\"image\"]]\n",
    "    del examples[\"image\"]\n",
    "    return examples"
   ]
  },
  {
   "cell_type": "code",
   "execution_count": 10,
   "metadata": {},
   "outputs": [],
   "source": [
    "dataset = dataset.with_transform(transforms)"
   ]
  },
  {
   "cell_type": "code",
   "execution_count": 11,
   "metadata": {},
   "outputs": [],
   "source": [
    "data_collator = DefaultDataCollator()"
   ]
  },
  {
   "cell_type": "code",
   "execution_count": 12,
   "metadata": {},
   "outputs": [],
   "source": [
    "accuracy = evaluate.load(\"accuracy\")\n",
    "\n",
    "def compute_metrics(eval_pred):\n",
    "    predictions, labels = eval_pred\n",
    "    predictions = np.argmax(predictions, axis=1)\n",
    "    return accuracy.compute(predictions=predictions, references=labels)"
   ]
  },
  {
   "cell_type": "code",
   "execution_count": 13,
   "metadata": {},
   "outputs": [
    {
     "name": "stderr",
     "output_type": "stream",
     "text": [
      "Some weights of ViTForImageClassification were not initialized from the model checkpoint at google/vit-base-patch16-224-in21k and are newly initialized: ['classifier.bias', 'classifier.weight']\n",
      "You should probably TRAIN this model on a down-stream task to be able to use it for predictions and inference.\n"
     ]
    }
   ],
   "source": [
    "model = AutoModelForImageClassification.from_pretrained(\n",
    "    checkpoint,\n",
    "    num_labels=len(labels),\n",
    "    id2label=id2label,\n",
    "    label2id=label2id,\n",
    ")"
   ]
  },
  {
   "cell_type": "code",
   "execution_count": 15,
   "metadata": {},
   "outputs": [],
   "source": [
    "login(os.getenv(\"HF_WRITE\"))"
   ]
  },
  {
   "cell_type": "code",
   "execution_count": 16,
   "metadata": {},
   "outputs": [
    {
     "data": {
      "application/vnd.jupyter.widget-view+json": {
       "model_id": "256c424010cb448f894efd9a7183a55d",
       "version_major": 2,
       "version_minor": 0
      },
      "text/plain": [
       "  0%|          | 0/3549 [00:00<?, ?it/s]"
      ]
     },
     "metadata": {},
     "output_type": "display_data"
    },
    {
     "name": "stdout",
     "output_type": "stream",
     "text": [
      "{'loss': 4.618, 'grad_norm': 3.305068016052246, 'learning_rate': 1.4084507042253521e-06, 'epoch': 0.01}\n",
      "{'loss': 4.6231, 'grad_norm': 3.2962327003479004, 'learning_rate': 2.8169014084507042e-06, 'epoch': 0.02}\n",
      "{'loss': 4.622, 'grad_norm': 3.28930926322937, 'learning_rate': 4.225352112676056e-06, 'epoch': 0.03}\n",
      "{'loss': 4.6132, 'grad_norm': 3.1374218463897705, 'learning_rate': 5.6338028169014084e-06, 'epoch': 0.03}\n",
      "{'loss': 4.6044, 'grad_norm': 3.0575778484344482, 'learning_rate': 7.042253521126762e-06, 'epoch': 0.04}\n",
      "{'loss': 4.5987, 'grad_norm': 3.3007946014404297, 'learning_rate': 8.450704225352112e-06, 'epoch': 0.05}\n",
      "{'loss': 4.6071, 'grad_norm': 3.1758439540863037, 'learning_rate': 9.859154929577465e-06, 'epoch': 0.06}\n",
      "{'loss': 4.5925, 'grad_norm': 3.3889970779418945, 'learning_rate': 1.1267605633802817e-05, 'epoch': 0.07}\n",
      "{'loss': 4.5724, 'grad_norm': 3.249274253845215, 'learning_rate': 1.267605633802817e-05, 'epoch': 0.08}\n",
      "{'loss': 4.5737, 'grad_norm': 3.2495477199554443, 'learning_rate': 1.4084507042253523e-05, 'epoch': 0.08}\n",
      "{'loss': 4.5481, 'grad_norm': 3.507909059524536, 'learning_rate': 1.5492957746478872e-05, 'epoch': 0.09}\n",
      "{'loss': 4.5352, 'grad_norm': 3.3634660243988037, 'learning_rate': 1.6901408450704224e-05, 'epoch': 0.1}\n",
      "{'loss': 4.5096, 'grad_norm': 3.4467291831970215, 'learning_rate': 1.830985915492958e-05, 'epoch': 0.11}\n",
      "{'loss': 4.4912, 'grad_norm': 3.561457872390747, 'learning_rate': 1.971830985915493e-05, 'epoch': 0.12}\n",
      "{'loss': 4.4659, 'grad_norm': 4.136659145355225, 'learning_rate': 2.112676056338028e-05, 'epoch': 0.13}\n",
      "{'loss': 4.4447, 'grad_norm': 3.9863173961639404, 'learning_rate': 2.2535211267605634e-05, 'epoch': 0.14}\n",
      "{'loss': 4.4217, 'grad_norm': 4.133684158325195, 'learning_rate': 2.3943661971830986e-05, 'epoch': 0.14}\n"
     ]
    },
    {
     "name": "stderr",
     "output_type": "stream",
     "text": [
      "c:\\Users\\sabrr\\OneDrive\\Documents\\GitHub\\CU-Computer-Vision\\.venv\\Lib\\site-packages\\PIL\\TiffImagePlugin.py:870: UserWarning: Truncated File Read\n",
      "  warnings.warn(str(msg))\n"
     ]
    },
    {
     "name": "stdout",
     "output_type": "stream",
     "text": [
      "{'loss': 4.3955, 'grad_norm': 3.9763519763946533, 'learning_rate': 2.535211267605634e-05, 'epoch': 0.15}\n",
      "{'loss': 4.3471, 'grad_norm': 4.15232515335083, 'learning_rate': 2.676056338028169e-05, 'epoch': 0.16}\n",
      "{'loss': 4.3433, 'grad_norm': 4.565159320831299, 'learning_rate': 2.8169014084507046e-05, 'epoch': 0.17}\n",
      "{'loss': 4.3008, 'grad_norm': 4.455473899841309, 'learning_rate': 2.9577464788732395e-05, 'epoch': 0.18}\n",
      "{'loss': 4.2614, 'grad_norm': 4.430142402648926, 'learning_rate': 3.0985915492957744e-05, 'epoch': 0.19}\n",
      "{'loss': 4.2318, 'grad_norm': 4.329217910766602, 'learning_rate': 3.23943661971831e-05, 'epoch': 0.19}\n",
      "{'loss': 4.2089, 'grad_norm': 5.201883792877197, 'learning_rate': 3.380281690140845e-05, 'epoch': 0.2}\n",
      "{'loss': 4.152, 'grad_norm': 4.348280906677246, 'learning_rate': 3.5211267605633805e-05, 'epoch': 0.21}\n",
      "{'loss': 4.1211, 'grad_norm': 4.8135528564453125, 'learning_rate': 3.661971830985916e-05, 'epoch': 0.22}\n",
      "{'loss': 4.0596, 'grad_norm': 5.0671586990356445, 'learning_rate': 3.802816901408451e-05, 'epoch': 0.23}\n",
      "{'loss': 4.0265, 'grad_norm': 5.052486896514893, 'learning_rate': 3.943661971830986e-05, 'epoch': 0.24}\n",
      "{'loss': 3.9579, 'grad_norm': 5.404294967651367, 'learning_rate': 4.0845070422535214e-05, 'epoch': 0.24}\n",
      "{'loss': 3.9043, 'grad_norm': 4.834048271179199, 'learning_rate': 4.225352112676056e-05, 'epoch': 0.25}\n",
      "{'loss': 3.9041, 'grad_norm': 4.8657755851745605, 'learning_rate': 4.366197183098591e-05, 'epoch': 0.26}\n",
      "{'loss': 3.8219, 'grad_norm': 5.321534633636475, 'learning_rate': 4.507042253521127e-05, 'epoch': 0.27}\n",
      "{'loss': 3.741, 'grad_norm': 6.2280049324035645, 'learning_rate': 4.647887323943662e-05, 'epoch': 0.28}\n",
      "{'loss': 3.7344, 'grad_norm': 5.4536519050598145, 'learning_rate': 4.788732394366197e-05, 'epoch': 0.29}\n",
      "{'loss': 3.6494, 'grad_norm': 5.493920803070068, 'learning_rate': 4.929577464788733e-05, 'epoch': 0.3}\n",
      "{'loss': 3.6225, 'grad_norm': 6.12774133682251, 'learning_rate': 4.992172824045085e-05, 'epoch': 0.3}\n",
      "{'loss': 3.6085, 'grad_norm': 5.950675010681152, 'learning_rate': 4.9765184721352535e-05, 'epoch': 0.31}\n",
      "{'loss': 3.5465, 'grad_norm': 6.105903148651123, 'learning_rate': 4.960864120225423e-05, 'epoch': 0.32}\n",
      "{'loss': 3.5119, 'grad_norm': 6.617711067199707, 'learning_rate': 4.9452097683155916e-05, 'epoch': 0.33}\n",
      "{'loss': 3.4512, 'grad_norm': 6.865106105804443, 'learning_rate': 4.9295554164057614e-05, 'epoch': 0.34}\n",
      "{'loss': 3.4366, 'grad_norm': 6.654837608337402, 'learning_rate': 4.91390106449593e-05, 'epoch': 0.35}\n",
      "{'loss': 3.3791, 'grad_norm': 7.330479145050049, 'learning_rate': 4.8982467125860995e-05, 'epoch': 0.35}\n",
      "{'loss': 3.3055, 'grad_norm': 6.884923458099365, 'learning_rate': 4.882592360676268e-05, 'epoch': 0.36}\n",
      "{'loss': 3.2582, 'grad_norm': 7.030148029327393, 'learning_rate': 4.866938008766438e-05, 'epoch': 0.37}\n",
      "{'loss': 3.2695, 'grad_norm': 6.48553991317749, 'learning_rate': 4.851283656856606e-05, 'epoch': 0.38}\n",
      "{'loss': 3.2229, 'grad_norm': 8.53564167022705, 'learning_rate': 4.835629304946775e-05, 'epoch': 0.39}\n",
      "{'loss': 3.134, 'grad_norm': 7.186486721038818, 'learning_rate': 4.819974953036944e-05, 'epoch': 0.4}\n",
      "{'loss': 3.1462, 'grad_norm': 7.640317916870117, 'learning_rate': 4.804320601127113e-05, 'epoch': 0.41}\n",
      "{'loss': 3.0849, 'grad_norm': 6.809545040130615, 'learning_rate': 4.788666249217283e-05, 'epoch': 0.41}\n",
      "{'loss': 3.0886, 'grad_norm': 6.657580375671387, 'learning_rate': 4.7730118973074514e-05, 'epoch': 0.42}\n",
      "{'loss': 3.0812, 'grad_norm': 7.982359409332275, 'learning_rate': 4.757357545397621e-05, 'epoch': 0.43}\n",
      "{'loss': 3.0257, 'grad_norm': 8.841382026672363, 'learning_rate': 4.7417031934877896e-05, 'epoch': 0.44}\n",
      "{'loss': 2.9622, 'grad_norm': 8.226397514343262, 'learning_rate': 4.726048841577959e-05, 'epoch': 0.45}\n",
      "{'loss': 2.9542, 'grad_norm': 7.749765872955322, 'learning_rate': 4.710394489668128e-05, 'epoch': 0.46}\n",
      "{'loss': 2.9581, 'grad_norm': 7.600009441375732, 'learning_rate': 4.6947401377582975e-05, 'epoch': 0.46}\n",
      "{'loss': 2.9039, 'grad_norm': 7.358351230621338, 'learning_rate': 4.679085785848466e-05, 'epoch': 0.47}\n",
      "{'loss': 2.8721, 'grad_norm': 10.466171264648438, 'learning_rate': 4.6634314339386356e-05, 'epoch': 0.48}\n",
      "{'loss': 2.8659, 'grad_norm': 10.662237167358398, 'learning_rate': 4.647777082028804e-05, 'epoch': 0.49}\n",
      "{'loss': 2.7961, 'grad_norm': 8.829495429992676, 'learning_rate': 4.632122730118974e-05, 'epoch': 0.5}\n",
      "{'loss': 2.7632, 'grad_norm': 7.105973243713379, 'learning_rate': 4.616468378209142e-05, 'epoch': 0.51}\n",
      "{'loss': 2.7263, 'grad_norm': 7.187431335449219, 'learning_rate': 4.600814026299312e-05, 'epoch': 0.52}\n",
      "{'loss': 2.6728, 'grad_norm': 9.062705039978027, 'learning_rate': 4.58515967438948e-05, 'epoch': 0.52}\n",
      "{'loss': 2.6289, 'grad_norm': 8.261030197143555, 'learning_rate': 4.56950532247965e-05, 'epoch': 0.53}\n",
      "{'loss': 2.6853, 'grad_norm': 10.016490936279297, 'learning_rate': 4.5538509705698184e-05, 'epoch': 0.54}\n",
      "{'loss': 2.6373, 'grad_norm': 9.248812675476074, 'learning_rate': 4.5381966186599875e-05, 'epoch': 0.55}\n",
      "{'loss': 2.6282, 'grad_norm': 8.487239837646484, 'learning_rate': 4.5225422667501566e-05, 'epoch': 0.56}\n",
      "{'loss': 2.5821, 'grad_norm': 8.0839262008667, 'learning_rate': 4.5068879148403256e-05, 'epoch': 0.57}\n",
      "{'loss': 2.5677, 'grad_norm': 10.25149154663086, 'learning_rate': 4.491233562930495e-05, 'epoch': 0.57}\n",
      "{'loss': 2.5378, 'grad_norm': 10.219887733459473, 'learning_rate': 4.475579211020664e-05, 'epoch': 0.58}\n",
      "{'loss': 2.4912, 'grad_norm': 7.948541641235352, 'learning_rate': 4.459924859110833e-05, 'epoch': 0.59}\n",
      "{'loss': 2.4919, 'grad_norm': 9.042878150939941, 'learning_rate': 4.444270507201002e-05, 'epoch': 0.6}\n",
      "{'loss': 2.4206, 'grad_norm': 9.164117813110352, 'learning_rate': 4.428616155291171e-05, 'epoch': 0.61}\n",
      "{'loss': 2.3626, 'grad_norm': 10.591096878051758, 'learning_rate': 4.41296180338134e-05, 'epoch': 0.62}\n",
      "{'loss': 2.4679, 'grad_norm': 9.844886779785156, 'learning_rate': 4.397307451471509e-05, 'epoch': 0.63}\n",
      "{'loss': 2.4606, 'grad_norm': 11.862451553344727, 'learning_rate': 4.381653099561678e-05, 'epoch': 0.63}\n",
      "{'loss': 2.3738, 'grad_norm': 8.978090286254883, 'learning_rate': 4.365998747651848e-05, 'epoch': 0.64}\n",
      "{'loss': 2.4129, 'grad_norm': 13.741700172424316, 'learning_rate': 4.350344395742016e-05, 'epoch': 0.65}\n",
      "{'loss': 2.3105, 'grad_norm': 12.780043601989746, 'learning_rate': 4.334690043832186e-05, 'epoch': 0.66}\n",
      "{'loss': 2.2567, 'grad_norm': 9.067535400390625, 'learning_rate': 4.3190356919223545e-05, 'epoch': 0.67}\n",
      "{'loss': 2.3037, 'grad_norm': 11.476197242736816, 'learning_rate': 4.303381340012524e-05, 'epoch': 0.68}\n",
      "{'loss': 2.2731, 'grad_norm': 9.405563354492188, 'learning_rate': 4.2877269881026926e-05, 'epoch': 0.68}\n",
      "{'loss': 2.2436, 'grad_norm': 10.575826644897461, 'learning_rate': 4.2720726361928624e-05, 'epoch': 0.69}\n",
      "{'loss': 2.2527, 'grad_norm': 13.858388900756836, 'learning_rate': 4.256418284283031e-05, 'epoch': 0.7}\n",
      "{'loss': 2.2242, 'grad_norm': 12.041668891906738, 'learning_rate': 4.2407639323732e-05, 'epoch': 0.71}\n",
      "{'loss': 2.1826, 'grad_norm': 8.979351043701172, 'learning_rate': 4.225109580463369e-05, 'epoch': 0.72}\n",
      "{'loss': 2.1774, 'grad_norm': 14.33928394317627, 'learning_rate': 4.209455228553538e-05, 'epoch': 0.73}\n",
      "{'loss': 2.188, 'grad_norm': 11.066499710083008, 'learning_rate': 4.193800876643707e-05, 'epoch': 0.73}\n",
      "{'loss': 2.1374, 'grad_norm': 9.932670593261719, 'learning_rate': 4.178146524733876e-05, 'epoch': 0.74}\n",
      "{'loss': 2.1619, 'grad_norm': 11.855576515197754, 'learning_rate': 4.162492172824045e-05, 'epoch': 0.75}\n",
      "{'loss': 2.0556, 'grad_norm': 10.174506187438965, 'learning_rate': 4.146837820914214e-05, 'epoch': 0.76}\n",
      "{'loss': 2.0695, 'grad_norm': 9.328108787536621, 'learning_rate': 4.131183469004383e-05, 'epoch': 0.77}\n",
      "{'loss': 2.0506, 'grad_norm': 14.365161895751953, 'learning_rate': 4.1155291170945524e-05, 'epoch': 0.78}\n",
      "{'loss': 2.0215, 'grad_norm': 14.116645812988281, 'learning_rate': 4.0998747651847215e-05, 'epoch': 0.79}\n",
      "{'loss': 2.0046, 'grad_norm': 13.457399368286133, 'learning_rate': 4.0842204132748905e-05, 'epoch': 0.79}\n",
      "{'loss': 1.9559, 'grad_norm': 12.845829010009766, 'learning_rate': 4.0685660613650596e-05, 'epoch': 0.8}\n",
      "{'loss': 1.9842, 'grad_norm': 10.420366287231445, 'learning_rate': 4.052911709455229e-05, 'epoch': 0.81}\n",
      "{'loss': 2.0066, 'grad_norm': 12.066793441772461, 'learning_rate': 4.037257357545398e-05, 'epoch': 0.82}\n",
      "{'loss': 1.9014, 'grad_norm': 12.858930587768555, 'learning_rate': 4.021603005635567e-05, 'epoch': 0.83}\n",
      "{'loss': 1.9395, 'grad_norm': 13.281970024108887, 'learning_rate': 4.005948653725736e-05, 'epoch': 0.84}\n",
      "{'loss': 1.8912, 'grad_norm': 10.58263874053955, 'learning_rate': 3.990294301815905e-05, 'epoch': 0.84}\n",
      "{'loss': 1.9094, 'grad_norm': 10.353755950927734, 'learning_rate': 3.974639949906074e-05, 'epoch': 0.85}\n",
      "{'loss': 1.9401, 'grad_norm': 10.587335586547852, 'learning_rate': 3.958985597996243e-05, 'epoch': 0.86}\n",
      "{'loss': 1.966, 'grad_norm': 18.309537887573242, 'learning_rate': 3.943331246086412e-05, 'epoch': 0.87}\n",
      "{'loss': 1.8691, 'grad_norm': 9.463953971862793, 'learning_rate': 3.927676894176581e-05, 'epoch': 0.88}\n",
      "{'loss': 1.8021, 'grad_norm': 15.170378684997559, 'learning_rate': 3.91202254226675e-05, 'epoch': 0.89}\n",
      "{'loss': 1.8317, 'grad_norm': 11.112824440002441, 'learning_rate': 3.8963681903569194e-05, 'epoch': 0.9}\n",
      "{'loss': 1.7999, 'grad_norm': 12.237804412841797, 'learning_rate': 3.8807138384470884e-05, 'epoch': 0.9}\n",
      "{'loss': 1.8715, 'grad_norm': 11.419075012207031, 'learning_rate': 3.8650594865372575e-05, 'epoch': 0.91}\n",
      "{'loss': 1.8043, 'grad_norm': 13.032054901123047, 'learning_rate': 3.8494051346274266e-05, 'epoch': 0.92}\n",
      "{'loss': 1.7709, 'grad_norm': 15.043943405151367, 'learning_rate': 3.8337507827175957e-05, 'epoch': 0.93}\n",
      "{'loss': 1.7477, 'grad_norm': 14.171493530273438, 'learning_rate': 3.818096430807765e-05, 'epoch': 0.94}\n",
      "{'loss': 1.7557, 'grad_norm': 14.137060165405273, 'learning_rate': 3.802442078897934e-05, 'epoch': 0.95}\n",
      "{'loss': 1.772, 'grad_norm': 18.98196792602539, 'learning_rate': 3.786787726988103e-05, 'epoch': 0.95}\n",
      "{'loss': 1.7635, 'grad_norm': 10.282404899597168, 'learning_rate': 3.771133375078272e-05, 'epoch': 0.96}\n",
      "{'loss': 1.7686, 'grad_norm': 14.511847496032715, 'learning_rate': 3.755479023168441e-05, 'epoch': 0.97}\n",
      "{'loss': 1.7935, 'grad_norm': 9.564851760864258, 'learning_rate': 3.73982467125861e-05, 'epoch': 0.98}\n",
      "{'loss': 1.6623, 'grad_norm': 12.334763526916504, 'learning_rate': 3.724170319348779e-05, 'epoch': 0.99}\n",
      "{'loss': 1.7386, 'grad_norm': 20.277734756469727, 'learning_rate': 3.708515967438948e-05, 'epoch': 1.0}\n"
     ]
    },
    {
     "data": {
      "application/vnd.jupyter.widget-view+json": {
       "model_id": "a7c43d3e19be4b51852a7cc7e1771a9e",
       "version_major": 2,
       "version_minor": 0
      },
      "text/plain": [
       "  0%|          | 0/1579 [00:00<?, ?it/s]"
      ]
     },
     "metadata": {},
     "output_type": "display_data"
    },
    {
     "name": "stdout",
     "output_type": "stream",
     "text": [
      "{'eval_loss': 1.5359952449798584, 'eval_accuracy': 0.7944950495049505, 'eval_runtime': 231.2659, 'eval_samples_per_second': 109.182, 'eval_steps_per_second': 6.828, 'epoch': 1.0}\n",
      "{'loss': 1.6879, 'grad_norm': 12.862735748291016, 'learning_rate': 3.692861615529117e-05, 'epoch': 1.01}\n",
      "{'loss': 1.5854, 'grad_norm': 12.344841003417969, 'learning_rate': 3.6772072636192864e-05, 'epoch': 1.01}\n",
      "{'loss': 1.6177, 'grad_norm': 10.77888298034668, 'learning_rate': 3.6615529117094554e-05, 'epoch': 1.02}\n",
      "{'loss': 1.5838, 'grad_norm': 8.838829040527344, 'learning_rate': 3.6458985597996245e-05, 'epoch': 1.03}\n",
      "{'loss': 1.6024, 'grad_norm': 17.48933982849121, 'learning_rate': 3.6302442078897936e-05, 'epoch': 1.04}\n",
      "{'loss': 1.6184, 'grad_norm': 12.04076099395752, 'learning_rate': 3.6145898559799626e-05, 'epoch': 1.05}\n",
      "{'loss': 1.577, 'grad_norm': 12.381103515625, 'learning_rate': 3.598935504070132e-05, 'epoch': 1.06}\n",
      "{'loss': 1.523, 'grad_norm': 10.747654914855957, 'learning_rate': 3.583281152160301e-05, 'epoch': 1.06}\n",
      "{'loss': 1.5663, 'grad_norm': 17.68844985961914, 'learning_rate': 3.56762680025047e-05, 'epoch': 1.07}\n",
      "{'loss': 1.5537, 'grad_norm': 10.725523948669434, 'learning_rate': 3.551972448340639e-05, 'epoch': 1.08}\n",
      "{'loss': 1.4405, 'grad_norm': 14.935578346252441, 'learning_rate': 3.536318096430808e-05, 'epoch': 1.09}\n",
      "{'loss': 1.5052, 'grad_norm': 17.608877182006836, 'learning_rate': 3.520663744520977e-05, 'epoch': 1.1}\n",
      "{'loss': 1.5691, 'grad_norm': 13.87016487121582, 'learning_rate': 3.505009392611146e-05, 'epoch': 1.11}\n",
      "{'loss': 1.5311, 'grad_norm': 15.711451530456543, 'learning_rate': 3.489355040701315e-05, 'epoch': 1.12}\n",
      "{'loss': 1.4691, 'grad_norm': 29.916982650756836, 'learning_rate': 3.473700688791484e-05, 'epoch': 1.12}\n",
      "{'loss': 1.4995, 'grad_norm': 17.444990158081055, 'learning_rate': 3.4580463368816533e-05, 'epoch': 1.13}\n",
      "{'loss': 1.4755, 'grad_norm': 12.0233154296875, 'learning_rate': 3.4423919849718224e-05, 'epoch': 1.14}\n",
      "{'loss': 1.4794, 'grad_norm': 13.538827896118164, 'learning_rate': 3.4267376330619915e-05, 'epoch': 1.15}\n",
      "{'loss': 1.3694, 'grad_norm': 11.359379768371582, 'learning_rate': 3.4110832811521606e-05, 'epoch': 1.16}\n",
      "{'loss': 1.4613, 'grad_norm': 14.04703140258789, 'learning_rate': 3.3954289292423296e-05, 'epoch': 1.17}\n",
      "{'loss': 1.3705, 'grad_norm': 14.501747131347656, 'learning_rate': 3.379774577332499e-05, 'epoch': 1.17}\n",
      "{'loss': 1.4997, 'grad_norm': 13.057524681091309, 'learning_rate': 3.364120225422668e-05, 'epoch': 1.18}\n",
      "{'loss': 1.4983, 'grad_norm': 14.35728931427002, 'learning_rate': 3.348465873512837e-05, 'epoch': 1.19}\n",
      "{'loss': 1.3626, 'grad_norm': 19.253934860229492, 'learning_rate': 3.332811521603006e-05, 'epoch': 1.2}\n",
      "{'loss': 1.3855, 'grad_norm': 17.30570411682129, 'learning_rate': 3.317157169693175e-05, 'epoch': 1.21}\n",
      "{'loss': 1.3818, 'grad_norm': 16.055776596069336, 'learning_rate': 3.301502817783344e-05, 'epoch': 1.22}\n",
      "{'loss': 1.3875, 'grad_norm': 16.955509185791016, 'learning_rate': 3.285848465873513e-05, 'epoch': 1.23}\n",
      "{'loss': 1.4739, 'grad_norm': 15.578536987304688, 'learning_rate': 3.270194113963682e-05, 'epoch': 1.23}\n",
      "{'loss': 1.3902, 'grad_norm': 15.682265281677246, 'learning_rate': 3.2545397620538506e-05, 'epoch': 1.24}\n",
      "{'loss': 1.4203, 'grad_norm': 11.670966148376465, 'learning_rate': 3.23888541014402e-05, 'epoch': 1.25}\n",
      "{'loss': 1.3854, 'grad_norm': 21.160297393798828, 'learning_rate': 3.223231058234189e-05, 'epoch': 1.26}\n",
      "{'loss': 1.2682, 'grad_norm': 14.573594093322754, 'learning_rate': 3.2075767063243585e-05, 'epoch': 1.27}\n",
      "{'loss': 1.3177, 'grad_norm': 16.764551162719727, 'learning_rate': 3.191922354414527e-05, 'epoch': 1.28}\n",
      "{'loss': 1.3651, 'grad_norm': 15.376678466796875, 'learning_rate': 3.1762680025046966e-05, 'epoch': 1.28}\n",
      "{'loss': 1.3262, 'grad_norm': 13.273825645446777, 'learning_rate': 3.160613650594865e-05, 'epoch': 1.29}\n",
      "{'loss': 1.3033, 'grad_norm': 13.821356773376465, 'learning_rate': 3.144959298685035e-05, 'epoch': 1.3}\n",
      "{'loss': 1.2174, 'grad_norm': 17.7601318359375, 'learning_rate': 3.129304946775204e-05, 'epoch': 1.31}\n",
      "{'loss': 1.3157, 'grad_norm': 16.535688400268555, 'learning_rate': 3.113650594865373e-05, 'epoch': 1.32}\n",
      "{'loss': 1.2864, 'grad_norm': 28.2120418548584, 'learning_rate': 3.097996242955542e-05, 'epoch': 1.33}\n",
      "{'loss': 1.3306, 'grad_norm': 23.358150482177734, 'learning_rate': 3.082341891045711e-05, 'epoch': 1.33}\n",
      "{'loss': 1.3136, 'grad_norm': 16.52652931213379, 'learning_rate': 3.06668753913588e-05, 'epoch': 1.34}\n",
      "{'loss': 1.3152, 'grad_norm': 16.56099510192871, 'learning_rate': 3.051033187226049e-05, 'epoch': 1.35}\n",
      "{'loss': 1.2825, 'grad_norm': 16.770204544067383, 'learning_rate': 3.0353788353162182e-05, 'epoch': 1.36}\n",
      "{'loss': 1.2883, 'grad_norm': 13.001898765563965, 'learning_rate': 3.019724483406387e-05, 'epoch': 1.37}\n",
      "{'loss': 1.3283, 'grad_norm': 15.282231330871582, 'learning_rate': 3.0040701314965564e-05, 'epoch': 1.38}\n",
      "{'loss': 1.183, 'grad_norm': 13.088159561157227, 'learning_rate': 2.988415779586725e-05, 'epoch': 1.39}\n",
      "{'loss': 1.3068, 'grad_norm': 13.47298526763916, 'learning_rate': 2.9727614276768945e-05, 'epoch': 1.39}\n",
      "{'loss': 1.2349, 'grad_norm': 12.55559253692627, 'learning_rate': 2.9571070757670633e-05, 'epoch': 1.4}\n",
      "{'loss': 1.2425, 'grad_norm': 14.28504467010498, 'learning_rate': 2.9414527238572327e-05, 'epoch': 1.41}\n",
      "{'loss': 1.2802, 'grad_norm': 17.932918548583984, 'learning_rate': 2.9257983719474014e-05, 'epoch': 1.42}\n",
      "{'loss': 1.2211, 'grad_norm': 18.347780227661133, 'learning_rate': 2.9101440200375708e-05, 'epoch': 1.43}\n",
      "{'loss': 1.2008, 'grad_norm': 14.444114685058594, 'learning_rate': 2.8944896681277395e-05, 'epoch': 1.44}\n",
      "{'loss': 1.1847, 'grad_norm': 17.64244842529297, 'learning_rate': 2.878835316217909e-05, 'epoch': 1.44}\n",
      "{'loss': 1.2013, 'grad_norm': 14.151115417480469, 'learning_rate': 2.8631809643080777e-05, 'epoch': 1.45}\n",
      "{'loss': 1.2526, 'grad_norm': 30.716398239135742, 'learning_rate': 2.8475266123982468e-05, 'epoch': 1.46}\n",
      "{'loss': 1.2069, 'grad_norm': 13.539993286132812, 'learning_rate': 2.8318722604884158e-05, 'epoch': 1.47}\n",
      "{'loss': 1.2481, 'grad_norm': 19.13888931274414, 'learning_rate': 2.816217908578585e-05, 'epoch': 1.48}\n",
      "{'loss': 1.2164, 'grad_norm': 18.488847732543945, 'learning_rate': 2.800563556668754e-05, 'epoch': 1.49}\n",
      "{'loss': 1.2782, 'grad_norm': 16.667402267456055, 'learning_rate': 2.784909204758923e-05, 'epoch': 1.5}\n",
      "{'loss': 1.2254, 'grad_norm': 13.464399337768555, 'learning_rate': 2.7692548528490918e-05, 'epoch': 1.5}\n",
      "{'loss': 1.1927, 'grad_norm': 15.253205299377441, 'learning_rate': 2.7536005009392612e-05, 'epoch': 1.51}\n",
      "{'loss': 1.2598, 'grad_norm': 20.3705997467041, 'learning_rate': 2.7379461490294306e-05, 'epoch': 1.52}\n",
      "{'loss': 1.2328, 'grad_norm': 17.261722564697266, 'learning_rate': 2.7222917971195993e-05, 'epoch': 1.53}\n",
      "{'loss': 1.1354, 'grad_norm': 15.24259090423584, 'learning_rate': 2.7066374452097687e-05, 'epoch': 1.54}\n",
      "{'loss': 1.0795, 'grad_norm': 15.074287414550781, 'learning_rate': 2.6909830932999375e-05, 'epoch': 1.55}\n",
      "{'loss': 1.1772, 'grad_norm': 13.34891414642334, 'learning_rate': 2.675328741390107e-05, 'epoch': 1.55}\n",
      "{'loss': 1.1963, 'grad_norm': 17.055927276611328, 'learning_rate': 2.6596743894802756e-05, 'epoch': 1.56}\n",
      "{'loss': 1.1103, 'grad_norm': 18.529449462890625, 'learning_rate': 2.644020037570445e-05, 'epoch': 1.57}\n",
      "{'loss': 1.1961, 'grad_norm': 13.555975914001465, 'learning_rate': 2.6283656856606137e-05, 'epoch': 1.58}\n",
      "{'loss': 1.0947, 'grad_norm': 16.85025405883789, 'learning_rate': 2.612711333750783e-05, 'epoch': 1.59}\n",
      "{'loss': 1.144, 'grad_norm': 16.29693603515625, 'learning_rate': 2.597056981840952e-05, 'epoch': 1.6}\n",
      "{'loss': 1.2194, 'grad_norm': 12.941010475158691, 'learning_rate': 2.5814026299311213e-05, 'epoch': 1.61}\n",
      "{'loss': 1.2381, 'grad_norm': 15.607779502868652, 'learning_rate': 2.56574827802129e-05, 'epoch': 1.61}\n",
      "{'loss': 1.1377, 'grad_norm': 20.517683029174805, 'learning_rate': 2.550093926111459e-05, 'epoch': 1.62}\n",
      "{'loss': 1.117, 'grad_norm': 15.73641586303711, 'learning_rate': 2.534439574201628e-05, 'epoch': 1.63}\n",
      "{'loss': 1.1421, 'grad_norm': 16.363201141357422, 'learning_rate': 2.5187852222917972e-05, 'epoch': 1.64}\n",
      "{'loss': 1.1926, 'grad_norm': 16.282825469970703, 'learning_rate': 2.5031308703819663e-05, 'epoch': 1.65}\n",
      "{'loss': 1.2046, 'grad_norm': 18.737762451171875, 'learning_rate': 2.4874765184721354e-05, 'epoch': 1.66}\n",
      "{'loss': 1.1539, 'grad_norm': 25.782546997070312, 'learning_rate': 2.4718221665623044e-05, 'epoch': 1.66}\n",
      "{'loss': 1.154, 'grad_norm': 18.621082305908203, 'learning_rate': 2.4561678146524735e-05, 'epoch': 1.67}\n",
      "{'loss': 1.0977, 'grad_norm': 14.146008491516113, 'learning_rate': 2.4405134627426426e-05, 'epoch': 1.68}\n",
      "{'loss': 1.0332, 'grad_norm': 18.43836212158203, 'learning_rate': 2.4248591108328117e-05, 'epoch': 1.69}\n",
      "{'loss': 1.0324, 'grad_norm': 22.095157623291016, 'learning_rate': 2.4092047589229807e-05, 'epoch': 1.7}\n",
      "{'loss': 1.0457, 'grad_norm': 18.959192276000977, 'learning_rate': 2.3935504070131498e-05, 'epoch': 1.71}\n",
      "{'loss': 1.1521, 'grad_norm': 27.25635528564453, 'learning_rate': 2.377896055103319e-05, 'epoch': 1.72}\n",
      "{'loss': 1.1731, 'grad_norm': 16.87140464782715, 'learning_rate': 2.362241703193488e-05, 'epoch': 1.72}\n",
      "{'loss': 1.0789, 'grad_norm': 15.80552864074707, 'learning_rate': 2.346587351283657e-05, 'epoch': 1.73}\n",
      "{'loss': 1.1178, 'grad_norm': 15.419857025146484, 'learning_rate': 2.330932999373826e-05, 'epoch': 1.74}\n",
      "{'loss': 1.0808, 'grad_norm': 15.521193504333496, 'learning_rate': 2.315278647463995e-05, 'epoch': 1.75}\n",
      "{'loss': 1.0746, 'grad_norm': 22.945417404174805, 'learning_rate': 2.2996242955541642e-05, 'epoch': 1.76}\n",
      "{'loss': 0.9992, 'grad_norm': 17.01485252380371, 'learning_rate': 2.2839699436443333e-05, 'epoch': 1.77}\n",
      "{'loss': 1.055, 'grad_norm': 29.930707931518555, 'learning_rate': 2.2683155917345024e-05, 'epoch': 1.77}\n",
      "{'loss': 1.0509, 'grad_norm': 17.565553665161133, 'learning_rate': 2.2526612398246714e-05, 'epoch': 1.78}\n",
      "{'loss': 1.1394, 'grad_norm': 22.843494415283203, 'learning_rate': 2.2370068879148405e-05, 'epoch': 1.79}\n",
      "{'loss': 1.1473, 'grad_norm': 19.520854949951172, 'learning_rate': 2.2213525360050096e-05, 'epoch': 1.8}\n",
      "{'loss': 1.0649, 'grad_norm': 16.312597274780273, 'learning_rate': 2.2056981840951786e-05, 'epoch': 1.81}\n",
      "{'loss': 1.0939, 'grad_norm': 15.214731216430664, 'learning_rate': 2.1900438321853474e-05, 'epoch': 1.82}\n",
      "{'loss': 0.9918, 'grad_norm': 14.961676597595215, 'learning_rate': 2.1743894802755164e-05, 'epoch': 1.82}\n",
      "{'loss': 1.1318, 'grad_norm': 15.14245891571045, 'learning_rate': 2.1587351283656855e-05, 'epoch': 1.83}\n",
      "{'loss': 0.9866, 'grad_norm': 17.795501708984375, 'learning_rate': 2.1430807764558546e-05, 'epoch': 1.84}\n",
      "{'loss': 1.0387, 'grad_norm': 19.304731369018555, 'learning_rate': 2.127426424546024e-05, 'epoch': 1.85}\n",
      "{'loss': 1.0093, 'grad_norm': 13.52344036102295, 'learning_rate': 2.111772072636193e-05, 'epoch': 1.86}\n",
      "{'loss': 0.987, 'grad_norm': 15.238800048828125, 'learning_rate': 2.096117720726362e-05, 'epoch': 1.87}\n",
      "{'loss': 1.0124, 'grad_norm': 16.205242156982422, 'learning_rate': 2.0804633688165312e-05, 'epoch': 1.88}\n",
      "{'loss': 1.0059, 'grad_norm': 17.085596084594727, 'learning_rate': 2.0648090169067003e-05, 'epoch': 1.88}\n",
      "{'loss': 1.0449, 'grad_norm': 17.047561645507812, 'learning_rate': 2.0491546649968694e-05, 'epoch': 1.89}\n",
      "{'loss': 1.0016, 'grad_norm': 13.545941352844238, 'learning_rate': 2.0335003130870384e-05, 'epoch': 1.9}\n",
      "{'loss': 0.9783, 'grad_norm': 17.201515197753906, 'learning_rate': 2.0178459611772075e-05, 'epoch': 1.91}\n",
      "{'loss': 1.0045, 'grad_norm': 15.703968048095703, 'learning_rate': 2.0021916092673766e-05, 'epoch': 1.92}\n",
      "{'loss': 1.004, 'grad_norm': 12.15411376953125, 'learning_rate': 1.9865372573575456e-05, 'epoch': 1.93}\n"
     ]
    },
    {
     "name": "stderr",
     "output_type": "stream",
     "text": [
      "c:\\Users\\sabrr\\OneDrive\\Documents\\GitHub\\CU-Computer-Vision\\.venv\\Lib\\site-packages\\PIL\\TiffImagePlugin.py:870: UserWarning: Truncated File Read\n",
      "  warnings.warn(str(msg))\n"
     ]
    },
    {
     "name": "stdout",
     "output_type": "stream",
     "text": [
      "{'loss': 0.9633, 'grad_norm': 22.55658721923828, 'learning_rate': 1.9708829054477147e-05, 'epoch': 1.93}\n",
      "{'loss': 1.0116, 'grad_norm': 18.3155574798584, 'learning_rate': 1.9552285535378838e-05, 'epoch': 1.94}\n",
      "{'loss': 1.033, 'grad_norm': 16.4659481048584, 'learning_rate': 1.939574201628053e-05, 'epoch': 1.95}\n",
      "{'loss': 0.9497, 'grad_norm': 23.966915130615234, 'learning_rate': 1.923919849718222e-05, 'epoch': 1.96}\n",
      "{'loss': 1.037, 'grad_norm': 15.241747856140137, 'learning_rate': 1.9082654978083906e-05, 'epoch': 1.97}\n",
      "{'loss': 0.9893, 'grad_norm': 16.155290603637695, 'learning_rate': 1.8926111458985597e-05, 'epoch': 1.98}\n",
      "{'loss': 0.9586, 'grad_norm': 15.206948280334473, 'learning_rate': 1.8769567939887288e-05, 'epoch': 1.99}\n",
      "{'loss': 1.0097, 'grad_norm': 19.43486976623535, 'learning_rate': 1.861302442078898e-05, 'epoch': 1.99}\n"
     ]
    },
    {
     "data": {
      "application/vnd.jupyter.widget-view+json": {
       "model_id": "b6749151b748447b8a08ba57671e88bf",
       "version_major": 2,
       "version_minor": 0
      },
      "text/plain": [
       "  0%|          | 0/1579 [00:00<?, ?it/s]"
      ]
     },
     "metadata": {},
     "output_type": "display_data"
    },
    {
     "name": "stdout",
     "output_type": "stream",
     "text": [
      "{'eval_loss': 0.8811041116714478, 'eval_accuracy': 0.8401188118811881, 'eval_runtime': 221.1275, 'eval_samples_per_second': 114.187, 'eval_steps_per_second': 7.141, 'epoch': 2.0}\n",
      "{'loss': 0.9559, 'grad_norm': 18.8619441986084, 'learning_rate': 1.845648090169067e-05, 'epoch': 2.0}\n",
      "{'loss': 0.9337, 'grad_norm': 15.42538833618164, 'learning_rate': 1.829993738259236e-05, 'epoch': 2.01}\n",
      "{'loss': 0.9804, 'grad_norm': 14.350504875183105, 'learning_rate': 1.814339386349405e-05, 'epoch': 2.02}\n",
      "{'loss': 0.905, 'grad_norm': 15.630205154418945, 'learning_rate': 1.798685034439574e-05, 'epoch': 2.03}\n",
      "{'loss': 0.933, 'grad_norm': 13.274575233459473, 'learning_rate': 1.7830306825297432e-05, 'epoch': 2.04}\n",
      "{'loss': 0.9206, 'grad_norm': 13.106250762939453, 'learning_rate': 1.7673763306199123e-05, 'epoch': 2.04}\n",
      "{'loss': 0.8928, 'grad_norm': 25.216529846191406, 'learning_rate': 1.7517219787100814e-05, 'epoch': 2.05}\n",
      "{'loss': 1.0232, 'grad_norm': 16.792932510375977, 'learning_rate': 1.7360676268002504e-05, 'epoch': 2.06}\n",
      "{'loss': 0.849, 'grad_norm': 12.599905014038086, 'learning_rate': 1.7204132748904198e-05, 'epoch': 2.07}\n",
      "{'loss': 0.9002, 'grad_norm': 20.950485229492188, 'learning_rate': 1.704758922980589e-05, 'epoch': 2.08}\n",
      "{'loss': 0.9425, 'grad_norm': 17.063291549682617, 'learning_rate': 1.689104571070758e-05, 'epoch': 2.09}\n",
      "{'loss': 1.0042, 'grad_norm': 17.05806541442871, 'learning_rate': 1.673450219160927e-05, 'epoch': 2.1}\n",
      "{'loss': 0.8993, 'grad_norm': 12.930878639221191, 'learning_rate': 1.657795867251096e-05, 'epoch': 2.1}\n",
      "{'loss': 0.9473, 'grad_norm': 16.351139068603516, 'learning_rate': 1.6421415153412652e-05, 'epoch': 2.11}\n",
      "{'loss': 0.9027, 'grad_norm': 13.83328628540039, 'learning_rate': 1.6264871634314343e-05, 'epoch': 2.12}\n",
      "{'loss': 0.9422, 'grad_norm': 20.07497787475586, 'learning_rate': 1.610832811521603e-05, 'epoch': 2.13}\n",
      "{'loss': 0.9597, 'grad_norm': 16.18796730041504, 'learning_rate': 1.595178459611772e-05, 'epoch': 2.14}\n",
      "{'loss': 0.9698, 'grad_norm': 14.311192512512207, 'learning_rate': 1.579524107701941e-05, 'epoch': 2.15}\n",
      "{'loss': 0.9243, 'grad_norm': 12.181975364685059, 'learning_rate': 1.5638697557921102e-05, 'epoch': 2.15}\n",
      "{'loss': 0.914, 'grad_norm': 14.904852867126465, 'learning_rate': 1.5482154038822793e-05, 'epoch': 2.16}\n",
      "{'loss': 0.8493, 'grad_norm': 10.160160064697266, 'learning_rate': 1.5325610519724483e-05, 'epoch': 2.17}\n",
      "{'loss': 0.8394, 'grad_norm': 18.540529251098633, 'learning_rate': 1.5169067000626174e-05, 'epoch': 2.18}\n",
      "{'loss': 0.9334, 'grad_norm': 14.781388282775879, 'learning_rate': 1.5012523481527865e-05, 'epoch': 2.19}\n",
      "{'loss': 0.9927, 'grad_norm': 16.64289665222168, 'learning_rate': 1.4855979962429555e-05, 'epoch': 2.2}\n",
      "{'loss': 0.8405, 'grad_norm': 18.738662719726562, 'learning_rate': 1.4699436443331246e-05, 'epoch': 2.21}\n",
      "{'loss': 0.9574, 'grad_norm': 23.214065551757812, 'learning_rate': 1.4542892924232937e-05, 'epoch': 2.21}\n",
      "{'loss': 0.8523, 'grad_norm': 20.833452224731445, 'learning_rate': 1.4386349405134628e-05, 'epoch': 2.22}\n",
      "{'loss': 0.8674, 'grad_norm': 13.680997848510742, 'learning_rate': 1.4229805886036318e-05, 'epoch': 2.23}\n",
      "{'loss': 0.9356, 'grad_norm': 13.054508209228516, 'learning_rate': 1.4073262366938009e-05, 'epoch': 2.24}\n",
      "{'loss': 0.842, 'grad_norm': 23.705171585083008, 'learning_rate': 1.39167188478397e-05, 'epoch': 2.25}\n",
      "{'loss': 0.9054, 'grad_norm': 19.793630599975586, 'learning_rate': 1.376017532874139e-05, 'epoch': 2.26}\n",
      "{'loss': 0.8492, 'grad_norm': 12.294986724853516, 'learning_rate': 1.3603631809643081e-05, 'epoch': 2.26}\n",
      "{'loss': 0.9154, 'grad_norm': 19.12310218811035, 'learning_rate': 1.344708829054477e-05, 'epoch': 2.27}\n",
      "{'loss': 0.849, 'grad_norm': 17.5513858795166, 'learning_rate': 1.329054477144646e-05, 'epoch': 2.28}\n",
      "{'loss': 0.9834, 'grad_norm': 29.184526443481445, 'learning_rate': 1.3134001252348152e-05, 'epoch': 2.29}\n",
      "{'loss': 0.8231, 'grad_norm': 20.560298919677734, 'learning_rate': 1.2977457733249846e-05, 'epoch': 2.3}\n",
      "{'loss': 0.8133, 'grad_norm': 14.652860641479492, 'learning_rate': 1.2820914214151536e-05, 'epoch': 2.31}\n",
      "{'loss': 0.8664, 'grad_norm': 17.27446746826172, 'learning_rate': 1.2664370695053227e-05, 'epoch': 2.32}\n",
      "{'loss': 0.8165, 'grad_norm': 13.771425247192383, 'learning_rate': 1.2507827175954918e-05, 'epoch': 2.32}\n",
      "{'loss': 0.9107, 'grad_norm': 19.73675537109375, 'learning_rate': 1.2351283656856607e-05, 'epoch': 2.33}\n",
      "{'loss': 0.7843, 'grad_norm': 16.980520248413086, 'learning_rate': 1.2194740137758297e-05, 'epoch': 2.34}\n",
      "{'loss': 0.8511, 'grad_norm': 16.99463653564453, 'learning_rate': 1.2038196618659988e-05, 'epoch': 2.35}\n",
      "{'loss': 0.7874, 'grad_norm': 14.413742065429688, 'learning_rate': 1.1881653099561679e-05, 'epoch': 2.36}\n",
      "{'loss': 0.8634, 'grad_norm': 13.380675315856934, 'learning_rate': 1.172510958046337e-05, 'epoch': 2.37}\n",
      "{'loss': 0.8144, 'grad_norm': 20.94293975830078, 'learning_rate': 1.156856606136506e-05, 'epoch': 2.37}\n",
      "{'loss': 0.8981, 'grad_norm': 25.427173614501953, 'learning_rate': 1.1412022542266751e-05, 'epoch': 2.38}\n",
      "{'loss': 0.7931, 'grad_norm': 16.731523513793945, 'learning_rate': 1.1255479023168442e-05, 'epoch': 2.39}\n",
      "{'loss': 0.9392, 'grad_norm': 16.865570068359375, 'learning_rate': 1.1098935504070132e-05, 'epoch': 2.4}\n",
      "{'loss': 0.8598, 'grad_norm': 20.253829956054688, 'learning_rate': 1.0942391984971823e-05, 'epoch': 2.41}\n",
      "{'loss': 0.803, 'grad_norm': 13.50955581665039, 'learning_rate': 1.0785848465873514e-05, 'epoch': 2.42}\n",
      "{'loss': 0.8239, 'grad_norm': 17.959510803222656, 'learning_rate': 1.0629304946775205e-05, 'epoch': 2.42}\n",
      "{'loss': 0.8545, 'grad_norm': 15.694560050964355, 'learning_rate': 1.0472761427676894e-05, 'epoch': 2.43}\n",
      "{'loss': 0.8599, 'grad_norm': 19.83587074279785, 'learning_rate': 1.0316217908578584e-05, 'epoch': 2.44}\n",
      "{'loss': 0.8607, 'grad_norm': 14.403607368469238, 'learning_rate': 1.0159674389480275e-05, 'epoch': 2.45}\n",
      "{'loss': 0.8614, 'grad_norm': 15.61137580871582, 'learning_rate': 1.0003130870381967e-05, 'epoch': 2.46}\n",
      "{'loss': 0.7697, 'grad_norm': 13.56277084350586, 'learning_rate': 9.846587351283658e-06, 'epoch': 2.47}\n",
      "{'loss': 0.9035, 'grad_norm': 19.649749755859375, 'learning_rate': 9.690043832185349e-06, 'epoch': 2.48}\n",
      "{'loss': 0.8159, 'grad_norm': 15.5287504196167, 'learning_rate': 9.53350031308704e-06, 'epoch': 2.48}\n",
      "{'loss': 0.9302, 'grad_norm': 21.035261154174805, 'learning_rate': 9.37695679398873e-06, 'epoch': 2.49}\n",
      "{'loss': 0.8389, 'grad_norm': 10.747122764587402, 'learning_rate': 9.220413274890421e-06, 'epoch': 2.5}\n",
      "{'loss': 0.8304, 'grad_norm': 15.789196968078613, 'learning_rate': 9.06386975579211e-06, 'epoch': 2.51}\n"
     ]
    },
    {
     "name": "stderr",
     "output_type": "stream",
     "text": [
      "c:\\Users\\sabrr\\OneDrive\\Documents\\GitHub\\CU-Computer-Vision\\.venv\\Lib\\site-packages\\PIL\\TiffImagePlugin.py:870: UserWarning: Truncated File Read\n",
      "  warnings.warn(str(msg))\n"
     ]
    },
    {
     "name": "stdout",
     "output_type": "stream",
     "text": [
      "{'loss': 0.8516, 'grad_norm': 20.198699951171875, 'learning_rate': 8.9073262366938e-06, 'epoch': 2.52}\n",
      "{'loss': 0.8679, 'grad_norm': 17.54818344116211, 'learning_rate': 8.750782717595491e-06, 'epoch': 2.53}\n",
      "{'loss': 0.8437, 'grad_norm': 21.20258140563965, 'learning_rate': 8.594239198497182e-06, 'epoch': 2.53}\n",
      "{'loss': 0.8322, 'grad_norm': 31.0272216796875, 'learning_rate': 8.437695679398873e-06, 'epoch': 2.54}\n",
      "{'loss': 0.8693, 'grad_norm': 15.131173133850098, 'learning_rate': 8.281152160300563e-06, 'epoch': 2.55}\n",
      "{'loss': 0.9272, 'grad_norm': 12.492947578430176, 'learning_rate': 8.124608641202254e-06, 'epoch': 2.56}\n",
      "{'loss': 0.8495, 'grad_norm': 12.601189613342285, 'learning_rate': 7.968065122103947e-06, 'epoch': 2.57}\n",
      "{'loss': 0.8372, 'grad_norm': 23.344053268432617, 'learning_rate': 7.811521603005637e-06, 'epoch': 2.58}\n",
      "{'loss': 0.7858, 'grad_norm': 18.180421829223633, 'learning_rate': 7.654978083907326e-06, 'epoch': 2.59}\n",
      "{'loss': 0.8779, 'grad_norm': 20.926069259643555, 'learning_rate': 7.498434564809018e-06, 'epoch': 2.59}\n",
      "{'loss': 0.8282, 'grad_norm': 16.120891571044922, 'learning_rate': 7.3418910457107085e-06, 'epoch': 2.6}\n",
      "{'loss': 0.837, 'grad_norm': 15.803350448608398, 'learning_rate': 7.185347526612398e-06, 'epoch': 2.61}\n",
      "{'loss': 0.919, 'grad_norm': 18.73063850402832, 'learning_rate': 7.028804007514089e-06, 'epoch': 2.62}\n",
      "{'loss': 0.7248, 'grad_norm': 22.895122528076172, 'learning_rate': 6.87226048841578e-06, 'epoch': 2.63}\n",
      "{'loss': 0.7917, 'grad_norm': 15.52042293548584, 'learning_rate': 6.7157169693174705e-06, 'epoch': 2.64}\n",
      "{'loss': 0.7999, 'grad_norm': 14.70822811126709, 'learning_rate': 6.559173450219161e-06, 'epoch': 2.64}\n",
      "{'loss': 0.8544, 'grad_norm': 13.735300064086914, 'learning_rate': 6.402629931120852e-06, 'epoch': 2.65}\n",
      "{'loss': 0.7804, 'grad_norm': 19.071260452270508, 'learning_rate': 6.2460864120225426e-06, 'epoch': 2.66}\n",
      "{'loss': 0.8068, 'grad_norm': 19.356704711914062, 'learning_rate': 6.089542892924233e-06, 'epoch': 2.67}\n",
      "{'loss': 0.9333, 'grad_norm': 14.87112808227539, 'learning_rate': 5.932999373825924e-06, 'epoch': 2.68}\n",
      "{'loss': 0.6885, 'grad_norm': 16.124252319335938, 'learning_rate': 5.776455854727615e-06, 'epoch': 2.69}\n",
      "{'loss': 0.9318, 'grad_norm': 18.33443260192871, 'learning_rate': 5.619912335629305e-06, 'epoch': 2.7}\n",
      "{'loss': 0.8791, 'grad_norm': 16.113630294799805, 'learning_rate': 5.463368816530995e-06, 'epoch': 2.7}\n",
      "{'loss': 0.9199, 'grad_norm': 21.064350128173828, 'learning_rate': 5.306825297432687e-06, 'epoch': 2.71}\n",
      "{'loss': 0.8766, 'grad_norm': 18.557889938354492, 'learning_rate': 5.1502817783343775e-06, 'epoch': 2.72}\n",
      "{'loss': 0.7738, 'grad_norm': 18.10494041442871, 'learning_rate': 4.993738259236068e-06, 'epoch': 2.73}\n",
      "{'loss': 0.7836, 'grad_norm': 19.447786331176758, 'learning_rate': 4.837194740137758e-06, 'epoch': 2.74}\n",
      "{'loss': 0.762, 'grad_norm': 15.047399520874023, 'learning_rate': 4.680651221039449e-06, 'epoch': 2.75}\n",
      "{'loss': 0.8346, 'grad_norm': 15.703545570373535, 'learning_rate': 4.5241077019411395e-06, 'epoch': 2.75}\n",
      "{'loss': 0.8353, 'grad_norm': 27.06679916381836, 'learning_rate': 4.367564182842831e-06, 'epoch': 2.76}\n",
      "{'loss': 0.7122, 'grad_norm': 14.576244354248047, 'learning_rate': 4.211020663744522e-06, 'epoch': 2.77}\n",
      "{'loss': 0.8843, 'grad_norm': 22.92124366760254, 'learning_rate': 4.054477144646212e-06, 'epoch': 2.78}\n",
      "{'loss': 0.811, 'grad_norm': 19.018207550048828, 'learning_rate': 3.897933625547902e-06, 'epoch': 2.79}\n",
      "{'loss': 0.9404, 'grad_norm': 19.544912338256836, 'learning_rate': 3.741390106449593e-06, 'epoch': 2.8}\n",
      "{'loss': 0.8377, 'grad_norm': 14.558755874633789, 'learning_rate': 3.5848465873512837e-06, 'epoch': 2.81}\n",
      "{'loss': 0.7781, 'grad_norm': 16.119836807250977, 'learning_rate': 3.428303068252974e-06, 'epoch': 2.81}\n",
      "{'loss': 0.7843, 'grad_norm': 21.233722686767578, 'learning_rate': 3.2717595491546655e-06, 'epoch': 2.82}\n",
      "{'loss': 0.9047, 'grad_norm': 22.849889755249023, 'learning_rate': 3.115216030056356e-06, 'epoch': 2.83}\n",
      "{'loss': 0.8729, 'grad_norm': 23.615446090698242, 'learning_rate': 2.9586725109580465e-06, 'epoch': 2.84}\n",
      "{'loss': 0.7974, 'grad_norm': 11.993553161621094, 'learning_rate': 2.8021289918597372e-06, 'epoch': 2.85}\n",
      "{'loss': 0.8934, 'grad_norm': 178.87905883789062, 'learning_rate': 2.6455854727614275e-06, 'epoch': 2.86}\n",
      "{'loss': 0.7429, 'grad_norm': 21.77902603149414, 'learning_rate': 2.4890419536631186e-06, 'epoch': 2.86}\n",
      "{'loss': 0.915, 'grad_norm': 19.85634994506836, 'learning_rate': 2.332498434564809e-06, 'epoch': 2.87}\n",
      "{'loss': 0.8488, 'grad_norm': 16.170406341552734, 'learning_rate': 2.1759549154664996e-06, 'epoch': 2.88}\n",
      "{'loss': 0.7984, 'grad_norm': 15.358569145202637, 'learning_rate': 2.0194113963681908e-06, 'epoch': 2.89}\n",
      "{'loss': 0.8963, 'grad_norm': 17.547313690185547, 'learning_rate': 1.862867877269881e-06, 'epoch': 2.9}\n",
      "{'loss': 0.775, 'grad_norm': 21.618799209594727, 'learning_rate': 1.7063243581715717e-06, 'epoch': 2.91}\n",
      "{'loss': 0.8517, 'grad_norm': 20.074573516845703, 'learning_rate': 1.5497808390732624e-06, 'epoch': 2.91}\n",
      "{'loss': 0.8284, 'grad_norm': 20.496524810791016, 'learning_rate': 1.3932373199749531e-06, 'epoch': 2.92}\n",
      "{'loss': 0.8642, 'grad_norm': 20.637853622436523, 'learning_rate': 1.2366938008766436e-06, 'epoch': 2.93}\n",
      "{'loss': 0.8075, 'grad_norm': 20.70721435546875, 'learning_rate': 1.0801502817783343e-06, 'epoch': 2.94}\n",
      "{'loss': 0.8325, 'grad_norm': 16.586217880249023, 'learning_rate': 9.236067626800252e-07, 'epoch': 2.95}\n",
      "{'loss': 0.7831, 'grad_norm': 27.31081199645996, 'learning_rate': 7.670632435817158e-07, 'epoch': 2.96}\n",
      "{'loss': 0.8573, 'grad_norm': 33.00209426879883, 'learning_rate': 6.105197244834065e-07, 'epoch': 2.97}\n",
      "{'loss': 0.8395, 'grad_norm': 14.487903594970703, 'learning_rate': 4.539762053850971e-07, 'epoch': 2.97}\n",
      "{'loss': 0.7742, 'grad_norm': 13.908700942993164, 'learning_rate': 2.974326862867877e-07, 'epoch': 2.98}\n",
      "{'loss': 0.8608, 'grad_norm': 20.35978126525879, 'learning_rate': 1.408891671884784e-07, 'epoch': 2.99}\n"
     ]
    },
    {
     "data": {
      "application/vnd.jupyter.widget-view+json": {
       "model_id": "d2917caa79e143acbcfbb43d58297f41",
       "version_major": 2,
       "version_minor": 0
      },
      "text/plain": [
       "  0%|          | 0/1579 [00:00<?, ?it/s]"
      ]
     },
     "metadata": {},
     "output_type": "display_data"
    },
    {
     "name": "stderr",
     "output_type": "stream",
     "text": [
      "c:\\Users\\sabrr\\OneDrive\\Documents\\GitHub\\CU-Computer-Vision\\.venv\\Lib\\site-packages\\PIL\\TiffImagePlugin.py:870: UserWarning: Truncated File Read\n",
      "  warnings.warn(str(msg))\n"
     ]
    },
    {
     "name": "stdout",
     "output_type": "stream",
     "text": [
      "{'eval_loss': 0.7385702133178711, 'eval_accuracy': 0.8545346534653465, 'eval_runtime': 224.1738, 'eval_samples_per_second': 112.636, 'eval_steps_per_second': 7.044, 'epoch': 3.0}\n",
      "{'train_runtime': 5860.4726, 'train_samples_per_second': 38.777, 'train_steps_per_second': 0.606, 'train_loss': 1.6977294368050608, 'epoch': 3.0}\n"
     ]
    },
    {
     "data": {
      "text/plain": [
       "TrainOutput(global_step=3549, training_loss=1.6977294368050608, metrics={'train_runtime': 5860.4726, 'train_samples_per_second': 38.777, 'train_steps_per_second': 0.606, 'total_flos': 1.7616838216178074e+19, 'train_loss': 1.6977294368050608, 'epoch': 2.998521647307286})"
      ]
     },
     "execution_count": 16,
     "metadata": {},
     "output_type": "execute_result"
    }
   ],
   "source": [
    "training_args = TrainingArguments(\n",
    "    output_dir=\"./food_models/\",\n",
    "    remove_unused_columns=False,\n",
    "    eval_strategy=\"epoch\",\n",
    "    save_strategy=\"epoch\",\n",
    "    learning_rate=5e-5,\n",
    "    per_device_train_batch_size=16,\n",
    "    gradient_accumulation_steps=4,\n",
    "    per_device_eval_batch_size=16,\n",
    "    num_train_epochs=3,\n",
    "    warmup_ratio=0.1,\n",
    "    logging_steps=10,\n",
    "    load_best_model_at_end=True,\n",
    "    metric_for_best_model=\"accuracy\",\n",
    "    push_to_hub=True,\n",
    ")\n",
    "\n",
    "trainer = Trainer(\n",
    "    model=model,\n",
    "    args=training_args,\n",
    "    data_collator=data_collator,\n",
    "    train_dataset=dataset[\"train\"],\n",
    "    eval_dataset=dataset[\"validation\"],\n",
    "    compute_metrics=compute_metrics,\n",
    ")\n",
    "\n",
    "trainer.train()"
   ]
  },
  {
   "cell_type": "code",
   "execution_count": 17,
   "metadata": {},
   "outputs": [
    {
     "data": {
      "application/vnd.jupyter.widget-view+json": {
       "model_id": "2b51e3b79de442a1baff920293a65eb4",
       "version_major": 2,
       "version_minor": 0
      },
      "text/plain": [
       "model.safetensors:   0%|          | 0.00/344M [00:00<?, ?B/s]"
      ]
     },
     "metadata": {},
     "output_type": "display_data"
    },
    {
     "data": {
      "text/plain": [
       "CommitInfo(commit_url='https://huggingface.co/SABR22/food_models/commit/ee75f7a0f6d1225a209740763506bfd4482eece6', commit_message='End of training', commit_description='', oid='ee75f7a0f6d1225a209740763506bfd4482eece6', pr_url=None, repo_url=RepoUrl('https://huggingface.co/SABR22/food_models', endpoint='https://huggingface.co', repo_type='model', repo_id='SABR22/food_models'), pr_revision=None, pr_num=None)"
      ]
     },
     "execution_count": 17,
     "metadata": {},
     "output_type": "execute_result"
    }
   ],
   "source": [
    "trainer.push_to_hub(token=os.getenv(\"HF_WRITE\"))"
   ]
  }
 ],
 "metadata": {
  "kernelspec": {
   "display_name": ".venv",
   "language": "python",
   "name": "python3"
  },
  "language_info": {
   "codemirror_mode": {
    "name": "ipython",
    "version": 3
   },
   "file_extension": ".py",
   "mimetype": "text/x-python",
   "name": "python",
   "nbconvert_exporter": "python",
   "pygments_lexer": "ipython3",
   "version": "3.11.5"
  }
 },
 "nbformat": 4,
 "nbformat_minor": 2
}
