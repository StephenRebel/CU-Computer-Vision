{
 "cells": [
  {
   "cell_type": "code",
   "execution_count": 1,
   "metadata": {},
   "outputs": [],
   "source": [
    "from datasets import load_dataset, DatasetDict, load_from_disk\n",
    "from huggingface_hub import login\n",
    "from torchvision.transforms import RandomResizedCrop, Compose, Normalize, ToTensor\n",
    "from transformers import (\n",
    "    AutoImageProcessor,\n",
    "    AutoModelForImageClassification,\n",
    "    DefaultDataCollator,\n",
    "    TrainingArguments,\n",
    "    Trainer,\n",
    ")\n",
    "import evaluate\n",
    "import numpy as np\n",
    "\n",
    "import os"
   ]
  },
  {
   "cell_type": "code",
   "execution_count": 2,
   "metadata": {},
   "outputs": [],
   "source": [
    "login(os.getenv(\"HF_READ\"))"
   ]
  },
  {
   "cell_type": "code",
   "execution_count": 3,
   "metadata": {},
   "outputs": [
    {
     "data": {
      "application/vnd.jupyter.widget-view+json": {
       "model_id": "b4e4558442214bafba7e4b346b6d2c17",
       "version_major": 2,
       "version_minor": 0
      },
      "text/plain": [
       "README.md:   0%|          | 0.00/465 [00:00<?, ?B/s]"
      ]
     },
     "metadata": {},
     "output_type": "display_data"
    },
    {
     "data": {
      "application/vnd.jupyter.widget-view+json": {
       "model_id": "0f7b3a531963441e82c37e275ed0174c",
       "version_major": 2,
       "version_minor": 0
      },
      "text/plain": [
       "train-00000-of-00014.parquet:   0%|          | 0.00/353M [00:00<?, ?B/s]"
      ]
     },
     "metadata": {},
     "output_type": "display_data"
    },
    {
     "data": {
      "application/vnd.jupyter.widget-view+json": {
       "model_id": "e4e8f556cf0c4096981ae2e22b21dcc1",
       "version_major": 2,
       "version_minor": 0
      },
      "text/plain": [
       "train-00001-of-00014.parquet:   0%|          | 0.00/21.1M [00:00<?, ?B/s]"
      ]
     },
     "metadata": {},
     "output_type": "display_data"
    },
    {
     "data": {
      "application/vnd.jupyter.widget-view+json": {
       "model_id": "63a2eed86c4f4d0da1c660527d646500",
       "version_major": 2,
       "version_minor": 0
      },
      "text/plain": [
       "train-00002-of-00014.parquet:   0%|          | 0.00/153M [00:00<?, ?B/s]"
      ]
     },
     "metadata": {},
     "output_type": "display_data"
    },
    {
     "data": {
      "application/vnd.jupyter.widget-view+json": {
       "model_id": "ec53630108094af4bd0a178338ef85f0",
       "version_major": 2,
       "version_minor": 0
      },
      "text/plain": [
       "train-00003-of-00014.parquet:   0%|          | 0.00/469M [00:00<?, ?B/s]"
      ]
     },
     "metadata": {},
     "output_type": "display_data"
    },
    {
     "data": {
      "application/vnd.jupyter.widget-view+json": {
       "model_id": "5b3ae77e7b5d402caf6f99f3deacffe5",
       "version_major": 2,
       "version_minor": 0
      },
      "text/plain": [
       "train-00004-of-00014.parquet:   0%|          | 0.00/216M [00:00<?, ?B/s]"
      ]
     },
     "metadata": {},
     "output_type": "display_data"
    },
    {
     "data": {
      "application/vnd.jupyter.widget-view+json": {
       "model_id": "d8ed3f830ebc4c97882d021e90630993",
       "version_major": 2,
       "version_minor": 0
      },
      "text/plain": [
       "train-00005-of-00014.parquet:   0%|          | 0.00/329M [00:00<?, ?B/s]"
      ]
     },
     "metadata": {},
     "output_type": "display_data"
    },
    {
     "data": {
      "application/vnd.jupyter.widget-view+json": {
       "model_id": "934345b0a32f44a8a3eaba5c35a75a71",
       "version_major": 2,
       "version_minor": 0
      },
      "text/plain": [
       "train-00006-of-00014.parquet:   0%|          | 0.00/258M [00:00<?, ?B/s]"
      ]
     },
     "metadata": {},
     "output_type": "display_data"
    },
    {
     "data": {
      "application/vnd.jupyter.widget-view+json": {
       "model_id": "3752d378341b4a0e8eaec2421c998a55",
       "version_major": 2,
       "version_minor": 0
      },
      "text/plain": [
       "train-00007-of-00014.parquet:   0%|          | 0.00/292M [00:00<?, ?B/s]"
      ]
     },
     "metadata": {},
     "output_type": "display_data"
    },
    {
     "data": {
      "application/vnd.jupyter.widget-view+json": {
       "model_id": "c1456e5e3bc04b2cb4bb31b5e0ccc461",
       "version_major": 2,
       "version_minor": 0
      },
      "text/plain": [
       "train-00008-of-00014.parquet:   0%|          | 0.00/174M [00:00<?, ?B/s]"
      ]
     },
     "metadata": {},
     "output_type": "display_data"
    },
    {
     "data": {
      "application/vnd.jupyter.widget-view+json": {
       "model_id": "e198f14ce9984630afa7f00213cf6c7f",
       "version_major": 2,
       "version_minor": 0
      },
      "text/plain": [
       "train-00009-of-00014.parquet:   0%|          | 0.00/269M [00:00<?, ?B/s]"
      ]
     },
     "metadata": {},
     "output_type": "display_data"
    },
    {
     "data": {
      "application/vnd.jupyter.widget-view+json": {
       "model_id": "d606f36149b44dbe91fd813ce3cd6ae1",
       "version_major": 2,
       "version_minor": 0
      },
      "text/plain": [
       "train-00010-of-00014.parquet:   0%|          | 0.00/279M [00:00<?, ?B/s]"
      ]
     },
     "metadata": {},
     "output_type": "display_data"
    },
    {
     "data": {
      "application/vnd.jupyter.widget-view+json": {
       "model_id": "4a1ea4a89e704fde8aad3056c35f8133",
       "version_major": 2,
       "version_minor": 0
      },
      "text/plain": [
       "train-00011-of-00014.parquet:   0%|          | 0.00/177M [00:00<?, ?B/s]"
      ]
     },
     "metadata": {},
     "output_type": "display_data"
    },
    {
     "data": {
      "application/vnd.jupyter.widget-view+json": {
       "model_id": "c2c7805d846045d9a6183af6c43bed25",
       "version_major": 2,
       "version_minor": 0
      },
      "text/plain": [
       "train-00012-of-00014.parquet:   0%|          | 0.00/64.9M [00:00<?, ?B/s]"
      ]
     },
     "metadata": {},
     "output_type": "display_data"
    },
    {
     "data": {
      "application/vnd.jupyter.widget-view+json": {
       "model_id": "a1793a19d48340068ff4ff9d1f2c9d71",
       "version_major": 2,
       "version_minor": 0
      },
      "text/plain": [
       "train-00013-of-00014.parquet:   0%|          | 0.00/58.6M [00:00<?, ?B/s]"
      ]
     },
     "metadata": {},
     "output_type": "display_data"
    },
    {
     "data": {
      "application/vnd.jupyter.widget-view+json": {
       "model_id": "06813639623f45a7b5dff07207a20c19",
       "version_major": 2,
       "version_minor": 0
      },
      "text/plain": [
       "Generating train split:   0%|          | 0/24573 [00:00<?, ? examples/s]"
      ]
     },
     "metadata": {},
     "output_type": "display_data"
    }
   ],
   "source": [
    "dataset = load_dataset(\"SABR22/threat_classification\")\n",
    "#dataset = load_from_disk(\"threat_dataset\\\\threatv2\\hf_threat_dataset_format\")"
   ]
  },
  {
   "cell_type": "code",
   "execution_count": 4,
   "metadata": {},
   "outputs": [
    {
     "data": {
      "text/plain": [
       "DatasetDict({\n",
       "    train: Dataset({\n",
       "        features: ['image', 'label'],\n",
       "        num_rows: 24573\n",
       "    })\n",
       "})"
      ]
     },
     "execution_count": 4,
     "metadata": {},
     "output_type": "execute_result"
    }
   ],
   "source": [
    "dataset"
   ]
  },
  {
   "cell_type": "code",
   "execution_count": 5,
   "metadata": {},
   "outputs": [],
   "source": [
    "dataset = dataset[\"train\"].train_test_split(test_size=0.15, seed=42)\n",
    "dataset = DatasetDict({\n",
    "    \"train\": dataset[\"train\"],\n",
    "    \"validation\": dataset[\"test\"],\n",
    "})"
   ]
  },
  {
   "cell_type": "code",
   "execution_count": 6,
   "metadata": {},
   "outputs": [
    {
     "data": {
      "text/plain": [
       "DatasetDict({\n",
       "    train: Dataset({\n",
       "        features: ['image', 'label'],\n",
       "        num_rows: 20887\n",
       "    })\n",
       "    validation: Dataset({\n",
       "        features: ['image', 'label'],\n",
       "        num_rows: 3686\n",
       "    })\n",
       "})"
      ]
     },
     "execution_count": 6,
     "metadata": {},
     "output_type": "execute_result"
    }
   ],
   "source": [
    "dataset"
   ]
  },
  {
   "cell_type": "code",
   "execution_count": 7,
   "metadata": {},
   "outputs": [],
   "source": [
    "labels = dataset['train'].features['label'].names\n",
    "label2id, id2label = dict(), dict()\n",
    "for i, label in enumerate(labels):\n",
    "    label2id[label] = str(i)\n",
    "    id2label[str(i)] = label"
   ]
  },
  {
   "cell_type": "code",
   "execution_count": 15,
   "metadata": {},
   "outputs": [
    {
     "data": {
      "text/plain": [
       "{'non-threat': '0', 'threat': '1'}"
      ]
     },
     "execution_count": 15,
     "metadata": {},
     "output_type": "execute_result"
    }
   ],
   "source": [
    "label2id"
   ]
  },
  {
   "cell_type": "code",
   "execution_count": 8,
   "metadata": {},
   "outputs": [
    {
     "name": "stderr",
     "output_type": "stream",
     "text": [
      "Fast image processor class <class 'transformers.models.vit.image_processing_vit_fast.ViTImageProcessorFast'> is available for this model. Using slow image processor class. To use the fast image processor class set `use_fast=True`.\n"
     ]
    }
   ],
   "source": [
    "checkpoint = \"google/vit-base-patch16-224-in21k\"\n",
    "image_processor = AutoImageProcessor.from_pretrained(checkpoint)"
   ]
  },
  {
   "cell_type": "code",
   "execution_count": 9,
   "metadata": {},
   "outputs": [],
   "source": [
    "normalize = Normalize(mean=image_processor.image_mean, std=image_processor.image_std)\n",
    "size = (\n",
    "    image_processor.size[\"shortest_edge\"]\n",
    "    if \"shortest_edge\" in image_processor.size\n",
    "    else (image_processor.size[\"height\"], image_processor.size[\"width\"])\n",
    ")\n",
    "_transfroms = Compose([RandomResizedCrop(size), ToTensor(), normalize])"
   ]
  },
  {
   "cell_type": "code",
   "execution_count": 10,
   "metadata": {},
   "outputs": [],
   "source": [
    "def transforms(examples):\n",
    "    examples[\"pixel_values\"] = [_transfroms(img.convert(\"RGB\")) for img in examples[\"image\"]]\n",
    "    del examples[\"image\"]\n",
    "    return examples"
   ]
  },
  {
   "cell_type": "code",
   "execution_count": 11,
   "metadata": {},
   "outputs": [],
   "source": [
    "dataset = dataset.with_transform(transforms)"
   ]
  },
  {
   "cell_type": "code",
   "execution_count": 12,
   "metadata": {},
   "outputs": [],
   "source": [
    "data_collator = DefaultDataCollator()"
   ]
  },
  {
   "cell_type": "code",
   "execution_count": 21,
   "metadata": {},
   "outputs": [],
   "source": [
    "# accuracy = evaluate.load(\"accuracy\")\n",
    "\n",
    "# def compute_metrics(eval_pred):\n",
    "#     predictions, labels = eval_pred\n",
    "#     predictions = np.argmax(predictions, axis=1)\n",
    "#     return accuracy.compute(predictions=predictions, references=labels)\n",
    "\n",
    "def compute_metrics(pred):\n",
    "    from sklearn.metrics import f1_score, precision_score, recall_score\n",
    "    logits, labels = pred\n",
    "    predictions = np.argmax(logits, axis=1)\n",
    "    f1 = f1_score(labels, predictions, average=\"binary\")\n",
    "    precision = precision_score(labels, predictions, average=\"binary\")\n",
    "    recall = recall_score(labels, predictions, average=\"binary\")\n",
    "    return {\"f1\": f1, \"precision\": precision, \"recall\": recall}\n"
   ]
  },
  {
   "cell_type": "code",
   "execution_count": 22,
   "metadata": {},
   "outputs": [
    {
     "name": "stderr",
     "output_type": "stream",
     "text": [
      "Some weights of ViTForImageClassification were not initialized from the model checkpoint at google/vit-base-patch16-224-in21k and are newly initialized: ['classifier.bias', 'classifier.weight']\n",
      "You should probably TRAIN this model on a down-stream task to be able to use it for predictions and inference.\n"
     ]
    }
   ],
   "source": [
    "model = AutoModelForImageClassification.from_pretrained(\n",
    "    checkpoint,\n",
    "    num_labels=len(labels),\n",
    "    id2label=id2label,\n",
    "    label2id=label2id,\n",
    ")"
   ]
  },
  {
   "cell_type": "code",
   "execution_count": 23,
   "metadata": {},
   "outputs": [],
   "source": [
    "login(os.getenv(\"HF_WRITE\"))"
   ]
  },
  {
   "cell_type": "code",
   "execution_count": 24,
   "metadata": {},
   "outputs": [
    {
     "data": {
      "application/vnd.jupyter.widget-view+json": {
       "model_id": "ba39634bdc2b41729cab534bd7175b71",
       "version_major": 2,
       "version_minor": 0
      },
      "text/plain": [
       "  0%|          | 0/1630 [00:00<?, ?it/s]"
      ]
     },
     "metadata": {},
     "output_type": "display_data"
    },
    {
     "name": "stdout",
     "output_type": "stream",
     "text": [
      "{'loss': 0.6866, 'grad_norm': 2.142916679382324, 'learning_rate': 3.6809815950920245e-06, 'epoch': 0.06}\n",
      "{'loss': 0.6314, 'grad_norm': 1.8821499347686768, 'learning_rate': 7.361963190184049e-06, 'epoch': 0.12}\n",
      "{'loss': 0.5293, 'grad_norm': 1.7498693466186523, 'learning_rate': 1.1042944785276074e-05, 'epoch': 0.18}\n",
      "{'loss': 0.3508, 'grad_norm': 1.277146339416504, 'learning_rate': 1.4723926380368098e-05, 'epoch': 0.25}\n",
      "{'loss': 0.2569, 'grad_norm': 1.3036167621612549, 'learning_rate': 1.8404907975460123e-05, 'epoch': 0.31}\n",
      "{'loss': 0.201, 'grad_norm': 2.536496162414551, 'learning_rate': 2.208588957055215e-05, 'epoch': 0.37}\n",
      "{'loss': 0.1282, 'grad_norm': 0.8879151940345764, 'learning_rate': 2.5766871165644174e-05, 'epoch': 0.43}\n",
      "{'loss': 0.0938, 'grad_norm': 3.226513147354126, 'learning_rate': 2.9447852760736196e-05, 'epoch': 0.49}\n",
      "{'loss': 0.1061, 'grad_norm': 3.6998634338378906, 'learning_rate': 2.965235173824131e-05, 'epoch': 0.55}\n",
      "{'loss': 0.083, 'grad_norm': 4.1234049797058105, 'learning_rate': 2.9243353783231085e-05, 'epoch': 0.61}\n",
      "{'loss': 0.0688, 'grad_norm': 2.218569278717041, 'learning_rate': 2.883435582822086e-05, 'epoch': 0.67}\n",
      "{'loss': 0.0516, 'grad_norm': 6.152949333190918, 'learning_rate': 2.8425357873210632e-05, 'epoch': 0.74}\n",
      "{'loss': 0.0585, 'grad_norm': 2.097402572631836, 'learning_rate': 2.801635991820041e-05, 'epoch': 0.8}\n",
      "{'loss': 0.0469, 'grad_norm': 4.979177474975586, 'learning_rate': 2.7607361963190186e-05, 'epoch': 0.86}\n",
      "{'loss': 0.0511, 'grad_norm': 3.093350887298584, 'learning_rate': 2.719836400817996e-05, 'epoch': 0.92}\n",
      "{'loss': 0.0744, 'grad_norm': 5.874196529388428, 'learning_rate': 2.6789366053169734e-05, 'epoch': 0.98}\n"
     ]
    },
    {
     "data": {
      "application/vnd.jupyter.widget-view+json": {
       "model_id": "a3135bf6e09748aab868bb3de36fdda1",
       "version_major": 2,
       "version_minor": 0
      },
      "text/plain": [
       "  0%|          | 0/116 [00:00<?, ?it/s]"
      ]
     },
     "metadata": {},
     "output_type": "display_data"
    },
    {
     "name": "stdout",
     "output_type": "stream",
     "text": [
      "{'eval_loss': 0.05755264312028885, 'eval_f1': 0.9465648854961832, 'eval_precision': 0.9738219895287958, 'eval_recall': 0.9207920792079208, 'eval_runtime': 40.4558, 'eval_samples_per_second': 91.112, 'eval_steps_per_second': 2.867, 'epoch': 1.0}\n",
      "{'loss': 0.0588, 'grad_norm': 0.3646495044231415, 'learning_rate': 2.638036809815951e-05, 'epoch': 1.04}\n",
      "{'loss': 0.0404, 'grad_norm': 0.5889979600906372, 'learning_rate': 2.5971370143149284e-05, 'epoch': 1.1}\n",
      "{'loss': 0.0503, 'grad_norm': 0.21267925202846527, 'learning_rate': 2.5562372188139063e-05, 'epoch': 1.16}\n",
      "{'loss': 0.0532, 'grad_norm': 4.012630939483643, 'learning_rate': 2.5153374233128835e-05, 'epoch': 1.23}\n",
      "{'loss': 0.0556, 'grad_norm': 1.1993904113769531, 'learning_rate': 2.474437627811861e-05, 'epoch': 1.29}\n",
      "{'loss': 0.0519, 'grad_norm': 3.324092149734497, 'learning_rate': 2.4335378323108386e-05, 'epoch': 1.35}\n",
      "{'loss': 0.0559, 'grad_norm': 0.4710441529750824, 'learning_rate': 2.3926380368098158e-05, 'epoch': 1.41}\n",
      "{'loss': 0.0437, 'grad_norm': 0.22707611322402954, 'learning_rate': 2.3517382413087933e-05, 'epoch': 1.47}\n",
      "{'loss': 0.0472, 'grad_norm': 0.3628498613834381, 'learning_rate': 2.3108384458077712e-05, 'epoch': 1.53}\n",
      "{'loss': 0.0464, 'grad_norm': 1.163778305053711, 'learning_rate': 2.2699386503067487e-05, 'epoch': 1.59}\n",
      "{'loss': 0.0381, 'grad_norm': 1.0199142694473267, 'learning_rate': 2.229038854805726e-05, 'epoch': 1.65}\n",
      "{'loss': 0.0308, 'grad_norm': 3.000577926635742, 'learning_rate': 2.1881390593047034e-05, 'epoch': 1.72}\n",
      "{'loss': 0.0585, 'grad_norm': 1.6668263673782349, 'learning_rate': 2.147239263803681e-05, 'epoch': 1.78}\n",
      "{'loss': 0.0376, 'grad_norm': 0.2897879481315613, 'learning_rate': 2.1063394683026585e-05, 'epoch': 1.84}\n",
      "{'loss': 0.0471, 'grad_norm': 2.621204376220703, 'learning_rate': 2.065439672801636e-05, 'epoch': 1.9}\n",
      "{'loss': 0.0449, 'grad_norm': 4.47816276550293, 'learning_rate': 2.0245398773006136e-05, 'epoch': 1.96}\n"
     ]
    },
    {
     "data": {
      "application/vnd.jupyter.widget-view+json": {
       "model_id": "8afbd71bc4c74ef08b9bc452ddd7452d",
       "version_major": 2,
       "version_minor": 0
      },
      "text/plain": [
       "  0%|          | 0/116 [00:00<?, ?it/s]"
      ]
     },
     "metadata": {},
     "output_type": "display_data"
    },
    {
     "name": "stdout",
     "output_type": "stream",
     "text": [
      "{'eval_loss': 0.03974929824471474, 'eval_f1': 0.9641367806505421, 'eval_precision': 0.9747048903878583, 'eval_recall': 0.9537953795379538, 'eval_runtime': 37.3348, 'eval_samples_per_second': 98.728, 'eval_steps_per_second': 3.107, 'epoch': 2.0}\n",
      "{'loss': 0.0356, 'grad_norm': 1.7082453966140747, 'learning_rate': 1.983640081799591e-05, 'epoch': 2.02}\n",
      "{'loss': 0.02, 'grad_norm': 0.10511762648820877, 'learning_rate': 1.9427402862985686e-05, 'epoch': 2.08}\n",
      "{'loss': 0.0386, 'grad_norm': 0.73386549949646, 'learning_rate': 1.901840490797546e-05, 'epoch': 2.14}\n",
      "{'loss': 0.0568, 'grad_norm': 4.3746185302734375, 'learning_rate': 1.8609406952965237e-05, 'epoch': 2.21}\n",
      "{'loss': 0.0387, 'grad_norm': 0.9029757380485535, 'learning_rate': 1.8200408997955012e-05, 'epoch': 2.27}\n",
      "{'loss': 0.0423, 'grad_norm': 4.824296474456787, 'learning_rate': 1.7791411042944788e-05, 'epoch': 2.33}\n",
      "{'loss': 0.0402, 'grad_norm': 0.8919986486434937, 'learning_rate': 1.738241308793456e-05, 'epoch': 2.39}\n",
      "{'loss': 0.0328, 'grad_norm': 1.8949084281921387, 'learning_rate': 1.6973415132924335e-05, 'epoch': 2.45}\n",
      "{'loss': 0.0342, 'grad_norm': 0.7533639073371887, 'learning_rate': 1.656441717791411e-05, 'epoch': 2.51}\n",
      "{'loss': 0.0262, 'grad_norm': 0.8691317439079285, 'learning_rate': 1.6155419222903886e-05, 'epoch': 2.57}\n",
      "{'loss': 0.0364, 'grad_norm': 1.704985499382019, 'learning_rate': 1.574642126789366e-05, 'epoch': 2.63}\n",
      "{'loss': 0.0287, 'grad_norm': 0.12557640671730042, 'learning_rate': 1.5337423312883436e-05, 'epoch': 2.7}\n",
      "{'loss': 0.0296, 'grad_norm': 1.398651123046875, 'learning_rate': 1.492842535787321e-05, 'epoch': 2.76}\n",
      "{'loss': 0.043, 'grad_norm': 1.368148684501648, 'learning_rate': 1.4519427402862987e-05, 'epoch': 2.82}\n",
      "{'loss': 0.0304, 'grad_norm': 2.0960280895233154, 'learning_rate': 1.411042944785276e-05, 'epoch': 2.88}\n",
      "{'loss': 0.0207, 'grad_norm': 1.1971973180770874, 'learning_rate': 1.3701431492842536e-05, 'epoch': 2.94}\n"
     ]
    },
    {
     "data": {
      "application/vnd.jupyter.widget-view+json": {
       "model_id": "d5e484a2564748159338724fe5fa9b2f",
       "version_major": 2,
       "version_minor": 0
      },
      "text/plain": [
       "  0%|          | 0/116 [00:00<?, ?it/s]"
      ]
     },
     "metadata": {},
     "output_type": "display_data"
    },
    {
     "name": "stdout",
     "output_type": "stream",
     "text": [
      "{'eval_loss': 0.04087326303124428, 'eval_f1': 0.9646672144617913, 'eval_precision': 0.9607201309328969, 'eval_recall': 0.9686468646864687, 'eval_runtime': 37.3983, 'eval_samples_per_second': 98.561, 'eval_steps_per_second': 3.102, 'epoch': 3.0}\n",
      "{'loss': 0.0257, 'grad_norm': 0.18956641852855682, 'learning_rate': 1.3292433537832312e-05, 'epoch': 3.0}\n",
      "{'loss': 0.0182, 'grad_norm': 0.2626650631427765, 'learning_rate': 1.2883435582822087e-05, 'epoch': 3.06}\n",
      "{'loss': 0.0267, 'grad_norm': 1.263091802597046, 'learning_rate': 1.247443762781186e-05, 'epoch': 3.12}\n",
      "{'loss': 0.0239, 'grad_norm': 0.3936562240123749, 'learning_rate': 1.2065439672801638e-05, 'epoch': 3.19}\n",
      "{'loss': 0.0291, 'grad_norm': 0.8159292340278625, 'learning_rate': 1.1656441717791411e-05, 'epoch': 3.25}\n",
      "{'loss': 0.0238, 'grad_norm': 4.220809459686279, 'learning_rate': 1.1247443762781187e-05, 'epoch': 3.31}\n",
      "{'loss': 0.0354, 'grad_norm': 0.48322027921676636, 'learning_rate': 1.0838445807770962e-05, 'epoch': 3.37}\n",
      "{'loss': 0.032, 'grad_norm': 2.8317179679870605, 'learning_rate': 1.0429447852760736e-05, 'epoch': 3.43}\n",
      "{'loss': 0.0217, 'grad_norm': 0.6165950298309326, 'learning_rate': 1.0020449897750511e-05, 'epoch': 3.49}\n",
      "{'loss': 0.0217, 'grad_norm': 4.475315093994141, 'learning_rate': 9.611451942740286e-06, 'epoch': 3.55}\n",
      "{'loss': 0.0213, 'grad_norm': 2.982886791229248, 'learning_rate': 9.202453987730062e-06, 'epoch': 3.61}\n",
      "{'loss': 0.0169, 'grad_norm': 1.753623604774475, 'learning_rate': 8.793456032719835e-06, 'epoch': 3.68}\n",
      "{'loss': 0.0204, 'grad_norm': 5.408555030822754, 'learning_rate': 8.384458077709612e-06, 'epoch': 3.74}\n",
      "{'loss': 0.0224, 'grad_norm': 2.78753662109375, 'learning_rate': 7.975460122699386e-06, 'epoch': 3.8}\n",
      "{'loss': 0.0331, 'grad_norm': 4.093164443969727, 'learning_rate': 7.566462167689162e-06, 'epoch': 3.86}\n",
      "{'loss': 0.0288, 'grad_norm': 6.924278736114502, 'learning_rate': 7.157464212678937e-06, 'epoch': 3.92}\n",
      "{'loss': 0.0342, 'grad_norm': 4.327590465545654, 'learning_rate': 6.748466257668711e-06, 'epoch': 3.98}\n"
     ]
    },
    {
     "data": {
      "application/vnd.jupyter.widget-view+json": {
       "model_id": "a1c1b9aca47547b0be2febaaf6fb939d",
       "version_major": 2,
       "version_minor": 0
      },
      "text/plain": [
       "  0%|          | 0/116 [00:00<?, ?it/s]"
      ]
     },
     "metadata": {},
     "output_type": "display_data"
    },
    {
     "name": "stdout",
     "output_type": "stream",
     "text": [
      "{'eval_loss': 0.03816292807459831, 'eval_f1': 0.9650122050447518, 'eval_precision': 0.9518459069020867, 'eval_recall': 0.9785478547854786, 'eval_runtime': 37.7324, 'eval_samples_per_second': 97.688, 'eval_steps_per_second': 3.074, 'epoch': 4.0}\n",
      "{'loss': 0.0227, 'grad_norm': 0.1687212437391281, 'learning_rate': 6.339468302658486e-06, 'epoch': 4.04}\n",
      "{'loss': 0.021, 'grad_norm': 1.6843472719192505, 'learning_rate': 5.930470347648262e-06, 'epoch': 4.1}\n",
      "{'loss': 0.0201, 'grad_norm': 0.06507040560245514, 'learning_rate': 5.521472392638037e-06, 'epoch': 4.17}\n",
      "{'loss': 0.0187, 'grad_norm': 0.188401997089386, 'learning_rate': 5.112474437627812e-06, 'epoch': 4.23}\n",
      "{'loss': 0.0187, 'grad_norm': 2.627936363220215, 'learning_rate': 4.703476482617587e-06, 'epoch': 4.29}\n",
      "{'loss': 0.0202, 'grad_norm': 7.665559768676758, 'learning_rate': 4.294478527607362e-06, 'epoch': 4.35}\n",
      "{'loss': 0.0118, 'grad_norm': 0.4879707396030426, 'learning_rate': 3.885480572597137e-06, 'epoch': 4.41}\n",
      "{'loss': 0.0084, 'grad_norm': 0.0588618703186512, 'learning_rate': 3.476482617586912e-06, 'epoch': 4.47}\n",
      "{'loss': 0.0219, 'grad_norm': 1.2991399765014648, 'learning_rate': 3.067484662576687e-06, 'epoch': 4.53}\n",
      "{'loss': 0.0168, 'grad_norm': 3.249692678451538, 'learning_rate': 2.6584867075664624e-06, 'epoch': 4.59}\n",
      "{'loss': 0.0119, 'grad_norm': 0.09647317230701447, 'learning_rate': 2.2494887525562373e-06, 'epoch': 4.66}\n",
      "{'loss': 0.0234, 'grad_norm': 0.6768665313720703, 'learning_rate': 1.8404907975460122e-06, 'epoch': 4.72}\n",
      "{'loss': 0.0163, 'grad_norm': 0.18299447000026703, 'learning_rate': 1.4314928425357874e-06, 'epoch': 4.78}\n",
      "{'loss': 0.0158, 'grad_norm': 0.13836370408535004, 'learning_rate': 1.0224948875255625e-06, 'epoch': 4.84}\n",
      "{'loss': 0.0235, 'grad_norm': 0.11913719028234482, 'learning_rate': 6.134969325153375e-07, 'epoch': 4.9}\n",
      "{'loss': 0.0286, 'grad_norm': 0.7796279788017273, 'learning_rate': 2.044989775051125e-07, 'epoch': 4.96}\n"
     ]
    },
    {
     "data": {
      "application/vnd.jupyter.widget-view+json": {
       "model_id": "7d9dfc89171d4167b799eabd57610ba8",
       "version_major": 2,
       "version_minor": 0
      },
      "text/plain": [
       "  0%|          | 0/116 [00:00<?, ?it/s]"
      ]
     },
     "metadata": {},
     "output_type": "display_data"
    },
    {
     "name": "stdout",
     "output_type": "stream",
     "text": [
      "{'eval_loss': 0.03812766447663307, 'eval_f1': 0.9656862745098039, 'eval_precision': 0.9563106796116505, 'eval_recall': 0.9752475247524752, 'eval_runtime': 38.4128, 'eval_samples_per_second': 95.958, 'eval_steps_per_second': 3.02, 'epoch': 4.99}\n",
      "{'train_runtime': 2859.5456, 'train_samples_per_second': 36.522, 'train_steps_per_second': 0.57, 'train_loss': 0.06734145838607308, 'epoch': 4.99}\n"
     ]
    },
    {
     "data": {
      "text/plain": [
       "TrainOutput(global_step=1630, training_loss=0.06734145838607308, metrics={'train_runtime': 2859.5456, 'train_samples_per_second': 36.522, 'train_steps_per_second': 0.57, 'total_flos': 8.081174644968112e+18, 'train_loss': 0.06734145838607308, 'epoch': 4.992343032159265})"
      ]
     },
     "execution_count": 24,
     "metadata": {},
     "output_type": "execute_result"
    }
   ],
   "source": [
    "training_args = TrainingArguments(\n",
    "    output_dir=\"./ViT-threat-classification-v2\",\n",
    "    remove_unused_columns=False,\n",
    "    eval_strategy=\"epoch\",\n",
    "    save_strategy=\"epoch\",\n",
    "    learning_rate=3e-5,\n",
    "    per_device_train_batch_size=32,\n",
    "    gradient_accumulation_steps=2,\n",
    "    per_device_eval_batch_size=32,\n",
    "    num_train_epochs=5,\n",
    "    warmup_ratio=0.1,\n",
    "    logging_steps=20,\n",
    "    load_best_model_at_end=True,\n",
    "    metric_for_best_model=\"f1\",\n",
    "    save_total_limit=2,\n",
    "    push_to_hub=True,\n",
    ")\n",
    "\n",
    "trainer = Trainer(\n",
    "    model=model,\n",
    "    args=training_args,\n",
    "    data_collator=data_collator,\n",
    "    train_dataset=dataset[\"train\"],\n",
    "    eval_dataset=dataset[\"validation\"],\n",
    "    compute_metrics=compute_metrics,\n",
    ")\n",
    "\n",
    "trainer.train()"
   ]
  },
  {
   "cell_type": "code",
   "execution_count": 25,
   "metadata": {},
   "outputs": [
    {
     "data": {
      "text/plain": [
       "CommitInfo(commit_url='https://huggingface.co/SABR22/ViT-threat-classification-v2/commit/32dfeebba898d14ce27b579ec3a8ac34903fc867', commit_message='End of training', commit_description='', oid='32dfeebba898d14ce27b579ec3a8ac34903fc867', pr_url=None, repo_url=RepoUrl('https://huggingface.co/SABR22/ViT-threat-classification-v2', endpoint='https://huggingface.co', repo_type='model', repo_id='SABR22/ViT-threat-classification-v2'), pr_revision=None, pr_num=None)"
      ]
     },
     "execution_count": 25,
     "metadata": {},
     "output_type": "execute_result"
    }
   ],
   "source": [
    "trainer.push_to_hub(token=os.getenv(\"HF_WRITE\"))"
   ]
  }
 ],
 "metadata": {
  "kernelspec": {
   "display_name": ".venv",
   "language": "python",
   "name": "python3"
  },
  "language_info": {
   "codemirror_mode": {
    "name": "ipython",
    "version": 3
   },
   "file_extension": ".py",
   "mimetype": "text/x-python",
   "name": "python",
   "nbconvert_exporter": "python",
   "pygments_lexer": "ipython3",
   "version": "3.11.5"
  }
 },
 "nbformat": 4,
 "nbformat_minor": 2
}
